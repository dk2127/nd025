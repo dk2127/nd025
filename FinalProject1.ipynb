{
 "cells": [
  {
   "cell_type": "markdown",
   "id": "8163b2e7",
   "metadata": {},
   "source": [
    "## We will follow the 6 CRISP-DM phases for the project1.  CRoss Industry Standard Process for Data Mining (CRISP-DM) is a process model that serves as the base for a data science process which has six sequential phases."
   ]
  },
  {
   "cell_type": "markdown",
   "id": "02e4c2d1",
   "metadata": {},
   "source": [
    "## 1. Business understanding\n",
    "\n",
    "#### As a tourist our objective is to find answers to below common questions using the Airbnb data freely available on Kaggle website for Seattle for 13 month period from January 2016 through January 2017.\n",
    "\n",
    "- Q1. What were the important factors that determined price per night? How much do they contribute to the predicting daily price?\n",
    "- Q2. What are the most popular Airbnb neighourhoods in Seattle?\n",
    "- Q3. What were the busy periods for the Seattle AirBnBs?\n",
    "- Q4. What was the per night average price during that period?\n",
    "\n",
    "## -------------------------------------------------------------------------------------------------"
   ]
  },
  {
   "cell_type": "markdown",
   "id": "ce441896",
   "metadata": {},
   "source": [
    "## 2. Data understanding\n",
    "\n",
    "### The following Airbnb activity is included in the Seattle dataset on Kaggle as csv files:\n",
    "\n",
    "- Listings, including full descriptions and average review score\n",
    "- Calendar, including listing id and the price and availability for that day\n",
    "- Reviews, including unique id for each reviewer and detailed comments\n",
    "\n",
    "###  We will load listing and Calendar datasets into dataframes for initial data exploration and identify need for data cleaning. Since we are using Reviews dataset for any test analytics, we won't load it.\n"
   ]
  },
  {
   "cell_type": "markdown",
   "id": "33384279",
   "metadata": {},
   "source": [
    "### The notebook needs below libraries for data exploration and data cleaning."
   ]
  },
  {
   "cell_type": "code",
   "execution_count": 1,
   "id": "8662d945",
   "metadata": {},
   "outputs": [],
   "source": [
    "import pandas as pd\n",
    "import numpy as np\n",
    "import seaborn as sns\n",
    "import matplotlib.pyplot as plt\n",
    "from datetime import datetime"
   ]
  },
  {
   "cell_type": "code",
   "execution_count": 2,
   "id": "bcbb0a15",
   "metadata": {
    "lines_to_next_cell": 1
   },
   "outputs": [],
   "source": [
    "# read the listings.csv file\n",
    "ldf0 = pd.read_csv(\"./listings.csv\")"
   ]
  },
  {
   "cell_type": "code",
   "execution_count": 3,
   "id": "61f64aff",
   "metadata": {},
   "outputs": [
    {
     "name": "stdout",
     "output_type": "stream",
     "text": [
      "<class 'pandas.core.frame.DataFrame'>\n",
      "RangeIndex: 3818 entries, 0 to 3817\n",
      "Data columns (total 92 columns):\n",
      " #   Column                            Non-Null Count  Dtype  \n",
      "---  ------                            --------------  -----  \n",
      " 0   id                                3818 non-null   int64  \n",
      " 1   listing_url                       3818 non-null   object \n",
      " 2   scrape_id                         3818 non-null   int64  \n",
      " 3   last_scraped                      3818 non-null   object \n",
      " 4   name                              3818 non-null   object \n",
      " 5   summary                           3641 non-null   object \n",
      " 6   space                             3249 non-null   object \n",
      " 7   description                       3818 non-null   object \n",
      " 8   experiences_offered               3818 non-null   object \n",
      " 9   neighborhood_overview             2786 non-null   object \n",
      " 10  notes                             2212 non-null   object \n",
      " 11  transit                           2884 non-null   object \n",
      " 12  thumbnail_url                     3498 non-null   object \n",
      " 13  medium_url                        3498 non-null   object \n",
      " 14  picture_url                       3818 non-null   object \n",
      " 15  xl_picture_url                    3498 non-null   object \n",
      " 16  host_id                           3818 non-null   int64  \n",
      " 17  host_url                          3818 non-null   object \n",
      " 18  host_name                         3816 non-null   object \n",
      " 19  host_since                        3816 non-null   object \n",
      " 20  host_location                     3810 non-null   object \n",
      " 21  host_about                        2959 non-null   object \n",
      " 22  host_response_time                3295 non-null   object \n",
      " 23  host_response_rate                3295 non-null   object \n",
      " 24  host_acceptance_rate              3045 non-null   object \n",
      " 25  host_is_superhost                 3816 non-null   object \n",
      " 26  host_thumbnail_url                3816 non-null   object \n",
      " 27  host_picture_url                  3816 non-null   object \n",
      " 28  host_neighbourhood                3518 non-null   object \n",
      " 29  host_listings_count               3816 non-null   float64\n",
      " 30  host_total_listings_count         3816 non-null   float64\n",
      " 31  host_verifications                3818 non-null   object \n",
      " 32  host_has_profile_pic              3816 non-null   object \n",
      " 33  host_identity_verified            3816 non-null   object \n",
      " 34  street                            3818 non-null   object \n",
      " 35  neighbourhood                     3402 non-null   object \n",
      " 36  neighbourhood_cleansed            3818 non-null   object \n",
      " 37  neighbourhood_group_cleansed      3818 non-null   object \n",
      " 38  city                              3818 non-null   object \n",
      " 39  state                             3818 non-null   object \n",
      " 40  zipcode                           3811 non-null   object \n",
      " 41  market                            3818 non-null   object \n",
      " 42  smart_location                    3818 non-null   object \n",
      " 43  country_code                      3818 non-null   object \n",
      " 44  country                           3818 non-null   object \n",
      " 45  latitude                          3818 non-null   float64\n",
      " 46  longitude                         3818 non-null   float64\n",
      " 47  is_location_exact                 3818 non-null   object \n",
      " 48  property_type                     3817 non-null   object \n",
      " 49  room_type                         3818 non-null   object \n",
      " 50  accommodates                      3818 non-null   int64  \n",
      " 51  bathrooms                         3802 non-null   float64\n",
      " 52  bedrooms                          3812 non-null   float64\n",
      " 53  beds                              3817 non-null   float64\n",
      " 54  bed_type                          3818 non-null   object \n",
      " 55  amenities                         3818 non-null   object \n",
      " 56  square_feet                       97 non-null     float64\n",
      " 57  price                             3818 non-null   object \n",
      " 58  weekly_price                      2009 non-null   object \n",
      " 59  monthly_price                     1517 non-null   object \n",
      " 60  security_deposit                  1866 non-null   object \n",
      " 61  cleaning_fee                      2788 non-null   object \n",
      " 62  guests_included                   3818 non-null   int64  \n",
      " 63  extra_people                      3818 non-null   object \n",
      " 64  minimum_nights                    3818 non-null   int64  \n",
      " 65  maximum_nights                    3818 non-null   int64  \n",
      " 66  calendar_updated                  3818 non-null   object \n",
      " 67  has_availability                  3818 non-null   object \n",
      " 68  availability_30                   3818 non-null   int64  \n",
      " 69  availability_60                   3818 non-null   int64  \n",
      " 70  availability_90                   3818 non-null   int64  \n",
      " 71  availability_365                  3818 non-null   int64  \n",
      " 72  calendar_last_scraped             3818 non-null   object \n",
      " 73  number_of_reviews                 3818 non-null   int64  \n",
      " 74  first_review                      3191 non-null   object \n",
      " 75  last_review                       3191 non-null   object \n",
      " 76  review_scores_rating              3171 non-null   float64\n",
      " 77  review_scores_accuracy            3160 non-null   float64\n",
      " 78  review_scores_cleanliness         3165 non-null   float64\n",
      " 79  review_scores_checkin             3160 non-null   float64\n",
      " 80  review_scores_communication       3167 non-null   float64\n",
      " 81  review_scores_location            3163 non-null   float64\n",
      " 82  review_scores_value               3162 non-null   float64\n",
      " 83  requires_license                  3818 non-null   object \n",
      " 84  license                           0 non-null      float64\n",
      " 85  jurisdiction_names                3818 non-null   object \n",
      " 86  instant_bookable                  3818 non-null   object \n",
      " 87  cancellation_policy               3818 non-null   object \n",
      " 88  require_guest_profile_picture     3818 non-null   object \n",
      " 89  require_guest_phone_verification  3818 non-null   object \n",
      " 90  calculated_host_listings_count    3818 non-null   int64  \n",
      " 91  reviews_per_month                 3191 non-null   float64\n",
      "dtypes: float64(17), int64(13), object(62)\n",
      "memory usage: 2.7+ MB\n"
     ]
    }
   ],
   "source": [
    "#Gather basic info about the dataset read\n",
    "ldf0.info()"
   ]
  },
  {
   "cell_type": "markdown",
   "id": "bde76149",
   "metadata": {},
   "source": [
    "### The listings dataset has 3818 rows. Above table shows how many non-null values are present for each of the columns. In next section we will analyze groups of them as much as possible since there are 92 variables. "
   ]
  },
  {
   "cell_type": "markdown",
   "id": "e050732d",
   "metadata": {},
   "source": [
    "## 3. Data preparation\n",
    "\n",
    "### From the initial analysis below, we see need to clean up the data for missing values or dropping unneeded column. We will organize the data for modeling by selecting few variables, impute missing data for some of  them, and change data types. \n",
    "\n",
    "### We will create dummy variables for relevant categorical variables."
   ]
  },
  {
   "cell_type": "markdown",
   "id": "79593149",
   "metadata": {},
   "source": [
    "### Let's start with a report of missing values from raw input listings data, before any preprocessing:"
   ]
  },
  {
   "cell_type": "code",
   "execution_count": 4,
   "id": "64c22def",
   "metadata": {
    "lines_to_next_cell": 1
   },
   "outputs": [],
   "source": [
    "def create_missing_values_table(df):\n",
    "    '''\n",
    "    This function provides stats on missing values on a given dataframe\n",
    "    input - dataframe\n",
    "    returns - dataframe that has missing value stats for each column in the input dataframe, including data types,\n",
    "    number of missing values, and percentage of missing values\n",
    "    '''\n",
    "    # Total missing values\n",
    "    mis_val = df.isnull().sum()\n",
    "\n",
    "    # Percentage of missing values\n",
    "    mis_val_percent = 100 * df.isnull().sum() / len(df)\n",
    "\n",
    "    # data types of those columns with missing values\n",
    "    mis_dtypes = df[df.isnull()].dtypes\n",
    "\n",
    "    # Make a table with the results\n",
    "    mis_val_table = pd.concat([mis_dtypes, mis_val, mis_val_percent], axis=1)\n",
    "\n",
    "    # Rename the columns\n",
    "    mis_val_table_ren_columns = mis_val_table.rename(columns={\n",
    "        0: 'DataTypes',\n",
    "        1: 'Missing Values',\n",
    "        2: '% of Total Values'\n",
    "    })\n",
    "\n",
    "    # Sort the table by percentage of missing descending\n",
    "    mis_val_table_ren_columns = mis_val_table_ren_columns[\n",
    "        mis_val_table_ren_columns.iloc[:, 1] != 0].sort_values(\n",
    "            '% of Total Values', ascending=False).round(1)\n",
    "\n",
    "    # Print some summary information\n",
    "    print(\"Your selected dataframe has \" + str(df.shape[1]) + \" columns.\\n\"\n",
    "          \"There are \" + str(mis_val_table_ren_columns.shape[0]) +\n",
    "          \" columns that have missing values.\")\n",
    "\n",
    "    # Return the dataframe with missing information\n",
    "    return mis_val_table_ren_columns"
   ]
  },
  {
   "cell_type": "code",
   "execution_count": 5,
   "id": "aab139de",
   "metadata": {},
   "outputs": [
    {
     "name": "stdout",
     "output_type": "stream",
     "text": [
      "Your selected dataframe has 92 columns.\n",
      "There are 45 columns that have missing values.\n",
      "\n",
      "  BEFORE PREPREOCESSING \n",
      "\n"
     ]
    },
    {
     "data": {
      "text/html": [
       "<div>\n",
       "<style scoped>\n",
       "    .dataframe tbody tr th:only-of-type {\n",
       "        vertical-align: middle;\n",
       "    }\n",
       "\n",
       "    .dataframe tbody tr th {\n",
       "        vertical-align: top;\n",
       "    }\n",
       "\n",
       "    .dataframe thead th {\n",
       "        text-align: right;\n",
       "    }\n",
       "</style>\n",
       "<table border=\"1\" class=\"dataframe\">\n",
       "  <thead>\n",
       "    <tr style=\"text-align: right;\">\n",
       "      <th></th>\n",
       "      <th>DataTypes</th>\n",
       "      <th>Missing Values</th>\n",
       "      <th>% of Total Values</th>\n",
       "    </tr>\n",
       "  </thead>\n",
       "  <tbody>\n",
       "    <tr>\n",
       "      <th>license</th>\n",
       "      <td>float64</td>\n",
       "      <td>3818</td>\n",
       "      <td>100.0</td>\n",
       "    </tr>\n",
       "    <tr>\n",
       "      <th>square_feet</th>\n",
       "      <td>float64</td>\n",
       "      <td>3721</td>\n",
       "      <td>97.5</td>\n",
       "    </tr>\n",
       "    <tr>\n",
       "      <th>monthly_price</th>\n",
       "      <td>object</td>\n",
       "      <td>2301</td>\n",
       "      <td>60.3</td>\n",
       "    </tr>\n",
       "    <tr>\n",
       "      <th>security_deposit</th>\n",
       "      <td>object</td>\n",
       "      <td>1952</td>\n",
       "      <td>51.1</td>\n",
       "    </tr>\n",
       "    <tr>\n",
       "      <th>weekly_price</th>\n",
       "      <td>object</td>\n",
       "      <td>1809</td>\n",
       "      <td>47.4</td>\n",
       "    </tr>\n",
       "    <tr>\n",
       "      <th>notes</th>\n",
       "      <td>object</td>\n",
       "      <td>1606</td>\n",
       "      <td>42.1</td>\n",
       "    </tr>\n",
       "    <tr>\n",
       "      <th>neighborhood_overview</th>\n",
       "      <td>object</td>\n",
       "      <td>1032</td>\n",
       "      <td>27.0</td>\n",
       "    </tr>\n",
       "    <tr>\n",
       "      <th>cleaning_fee</th>\n",
       "      <td>object</td>\n",
       "      <td>1030</td>\n",
       "      <td>27.0</td>\n",
       "    </tr>\n",
       "    <tr>\n",
       "      <th>transit</th>\n",
       "      <td>object</td>\n",
       "      <td>934</td>\n",
       "      <td>24.5</td>\n",
       "    </tr>\n",
       "    <tr>\n",
       "      <th>host_about</th>\n",
       "      <td>object</td>\n",
       "      <td>859</td>\n",
       "      <td>22.5</td>\n",
       "    </tr>\n",
       "    <tr>\n",
       "      <th>host_acceptance_rate</th>\n",
       "      <td>object</td>\n",
       "      <td>773</td>\n",
       "      <td>20.2</td>\n",
       "    </tr>\n",
       "    <tr>\n",
       "      <th>review_scores_accuracy</th>\n",
       "      <td>float64</td>\n",
       "      <td>658</td>\n",
       "      <td>17.2</td>\n",
       "    </tr>\n",
       "    <tr>\n",
       "      <th>review_scores_checkin</th>\n",
       "      <td>float64</td>\n",
       "      <td>658</td>\n",
       "      <td>17.2</td>\n",
       "    </tr>\n",
       "    <tr>\n",
       "      <th>review_scores_value</th>\n",
       "      <td>float64</td>\n",
       "      <td>656</td>\n",
       "      <td>17.2</td>\n",
       "    </tr>\n",
       "    <tr>\n",
       "      <th>review_scores_location</th>\n",
       "      <td>float64</td>\n",
       "      <td>655</td>\n",
       "      <td>17.2</td>\n",
       "    </tr>\n",
       "    <tr>\n",
       "      <th>review_scores_cleanliness</th>\n",
       "      <td>float64</td>\n",
       "      <td>653</td>\n",
       "      <td>17.1</td>\n",
       "    </tr>\n",
       "    <tr>\n",
       "      <th>review_scores_communication</th>\n",
       "      <td>float64</td>\n",
       "      <td>651</td>\n",
       "      <td>17.1</td>\n",
       "    </tr>\n",
       "    <tr>\n",
       "      <th>review_scores_rating</th>\n",
       "      <td>float64</td>\n",
       "      <td>647</td>\n",
       "      <td>16.9</td>\n",
       "    </tr>\n",
       "    <tr>\n",
       "      <th>last_review</th>\n",
       "      <td>object</td>\n",
       "      <td>627</td>\n",
       "      <td>16.4</td>\n",
       "    </tr>\n",
       "    <tr>\n",
       "      <th>first_review</th>\n",
       "      <td>object</td>\n",
       "      <td>627</td>\n",
       "      <td>16.4</td>\n",
       "    </tr>\n",
       "    <tr>\n",
       "      <th>reviews_per_month</th>\n",
       "      <td>float64</td>\n",
       "      <td>627</td>\n",
       "      <td>16.4</td>\n",
       "    </tr>\n",
       "    <tr>\n",
       "      <th>space</th>\n",
       "      <td>object</td>\n",
       "      <td>569</td>\n",
       "      <td>14.9</td>\n",
       "    </tr>\n",
       "    <tr>\n",
       "      <th>host_response_rate</th>\n",
       "      <td>object</td>\n",
       "      <td>523</td>\n",
       "      <td>13.7</td>\n",
       "    </tr>\n",
       "    <tr>\n",
       "      <th>host_response_time</th>\n",
       "      <td>object</td>\n",
       "      <td>523</td>\n",
       "      <td>13.7</td>\n",
       "    </tr>\n",
       "    <tr>\n",
       "      <th>neighbourhood</th>\n",
       "      <td>object</td>\n",
       "      <td>416</td>\n",
       "      <td>10.9</td>\n",
       "    </tr>\n",
       "    <tr>\n",
       "      <th>xl_picture_url</th>\n",
       "      <td>object</td>\n",
       "      <td>320</td>\n",
       "      <td>8.4</td>\n",
       "    </tr>\n",
       "    <tr>\n",
       "      <th>medium_url</th>\n",
       "      <td>object</td>\n",
       "      <td>320</td>\n",
       "      <td>8.4</td>\n",
       "    </tr>\n",
       "    <tr>\n",
       "      <th>thumbnail_url</th>\n",
       "      <td>object</td>\n",
       "      <td>320</td>\n",
       "      <td>8.4</td>\n",
       "    </tr>\n",
       "    <tr>\n",
       "      <th>host_neighbourhood</th>\n",
       "      <td>object</td>\n",
       "      <td>300</td>\n",
       "      <td>7.9</td>\n",
       "    </tr>\n",
       "    <tr>\n",
       "      <th>summary</th>\n",
       "      <td>object</td>\n",
       "      <td>177</td>\n",
       "      <td>4.6</td>\n",
       "    </tr>\n",
       "    <tr>\n",
       "      <th>bathrooms</th>\n",
       "      <td>float64</td>\n",
       "      <td>16</td>\n",
       "      <td>0.4</td>\n",
       "    </tr>\n",
       "    <tr>\n",
       "      <th>host_location</th>\n",
       "      <td>object</td>\n",
       "      <td>8</td>\n",
       "      <td>0.2</td>\n",
       "    </tr>\n",
       "    <tr>\n",
       "      <th>zipcode</th>\n",
       "      <td>object</td>\n",
       "      <td>7</td>\n",
       "      <td>0.2</td>\n",
       "    </tr>\n",
       "    <tr>\n",
       "      <th>bedrooms</th>\n",
       "      <td>float64</td>\n",
       "      <td>6</td>\n",
       "      <td>0.2</td>\n",
       "    </tr>\n",
       "    <tr>\n",
       "      <th>host_has_profile_pic</th>\n",
       "      <td>object</td>\n",
       "      <td>2</td>\n",
       "      <td>0.1</td>\n",
       "    </tr>\n",
       "    <tr>\n",
       "      <th>host_total_listings_count</th>\n",
       "      <td>float64</td>\n",
       "      <td>2</td>\n",
       "      <td>0.1</td>\n",
       "    </tr>\n",
       "    <tr>\n",
       "      <th>host_listings_count</th>\n",
       "      <td>float64</td>\n",
       "      <td>2</td>\n",
       "      <td>0.1</td>\n",
       "    </tr>\n",
       "    <tr>\n",
       "      <th>host_picture_url</th>\n",
       "      <td>object</td>\n",
       "      <td>2</td>\n",
       "      <td>0.1</td>\n",
       "    </tr>\n",
       "    <tr>\n",
       "      <th>host_thumbnail_url</th>\n",
       "      <td>object</td>\n",
       "      <td>2</td>\n",
       "      <td>0.1</td>\n",
       "    </tr>\n",
       "    <tr>\n",
       "      <th>host_is_superhost</th>\n",
       "      <td>object</td>\n",
       "      <td>2</td>\n",
       "      <td>0.1</td>\n",
       "    </tr>\n",
       "    <tr>\n",
       "      <th>host_since</th>\n",
       "      <td>object</td>\n",
       "      <td>2</td>\n",
       "      <td>0.1</td>\n",
       "    </tr>\n",
       "    <tr>\n",
       "      <th>host_name</th>\n",
       "      <td>object</td>\n",
       "      <td>2</td>\n",
       "      <td>0.1</td>\n",
       "    </tr>\n",
       "    <tr>\n",
       "      <th>host_identity_verified</th>\n",
       "      <td>object</td>\n",
       "      <td>2</td>\n",
       "      <td>0.1</td>\n",
       "    </tr>\n",
       "    <tr>\n",
       "      <th>beds</th>\n",
       "      <td>float64</td>\n",
       "      <td>1</td>\n",
       "      <td>0.0</td>\n",
       "    </tr>\n",
       "    <tr>\n",
       "      <th>property_type</th>\n",
       "      <td>object</td>\n",
       "      <td>1</td>\n",
       "      <td>0.0</td>\n",
       "    </tr>\n",
       "  </tbody>\n",
       "</table>\n",
       "</div>"
      ],
      "text/plain": [
       "                            DataTypes  Missing Values  % of Total Values\n",
       "license                       float64            3818              100.0\n",
       "square_feet                   float64            3721               97.5\n",
       "monthly_price                  object            2301               60.3\n",
       "security_deposit               object            1952               51.1\n",
       "weekly_price                   object            1809               47.4\n",
       "notes                          object            1606               42.1\n",
       "neighborhood_overview          object            1032               27.0\n",
       "cleaning_fee                   object            1030               27.0\n",
       "transit                        object             934               24.5\n",
       "host_about                     object             859               22.5\n",
       "host_acceptance_rate           object             773               20.2\n",
       "review_scores_accuracy        float64             658               17.2\n",
       "review_scores_checkin         float64             658               17.2\n",
       "review_scores_value           float64             656               17.2\n",
       "review_scores_location        float64             655               17.2\n",
       "review_scores_cleanliness     float64             653               17.1\n",
       "review_scores_communication   float64             651               17.1\n",
       "review_scores_rating          float64             647               16.9\n",
       "last_review                    object             627               16.4\n",
       "first_review                   object             627               16.4\n",
       "reviews_per_month             float64             627               16.4\n",
       "space                          object             569               14.9\n",
       "host_response_rate             object             523               13.7\n",
       "host_response_time             object             523               13.7\n",
       "neighbourhood                  object             416               10.9\n",
       "xl_picture_url                 object             320                8.4\n",
       "medium_url                     object             320                8.4\n",
       "thumbnail_url                  object             320                8.4\n",
       "host_neighbourhood             object             300                7.9\n",
       "summary                        object             177                4.6\n",
       "bathrooms                     float64              16                0.4\n",
       "host_location                  object               8                0.2\n",
       "zipcode                        object               7                0.2\n",
       "bedrooms                      float64               6                0.2\n",
       "host_has_profile_pic           object               2                0.1\n",
       "host_total_listings_count     float64               2                0.1\n",
       "host_listings_count           float64               2                0.1\n",
       "host_picture_url               object               2                0.1\n",
       "host_thumbnail_url             object               2                0.1\n",
       "host_is_superhost              object               2                0.1\n",
       "host_since                     object               2                0.1\n",
       "host_name                      object               2                0.1\n",
       "host_identity_verified         object               2                0.1\n",
       "beds                          float64               1                0.0\n",
       "property_type                  object               1                0.0"
      ]
     },
     "execution_count": 5,
     "metadata": {},
     "output_type": "execute_result"
    }
   ],
   "source": [
    "missing_values = create_missing_values_table(ldf0)\n",
    "print(\"\\n  BEFORE PREPREOCESSING \\n\")\n",
    "missing_values"
   ]
  },
  {
   "cell_type": "markdown",
   "id": "4431b1c9",
   "metadata": {},
   "source": [
    "### Let's plot % of missing values for all columns in the listings dataset."
   ]
  },
  {
   "cell_type": "code",
   "execution_count": 6,
   "id": "4b4451bb",
   "metadata": {},
   "outputs": [
    {
     "data": {
      "text/plain": [
       "<AxesSubplot: title={'center': 'Missing Values % before preprocessing / Clean up'}>"
      ]
     },
     "execution_count": 6,
     "metadata": {},
     "output_type": "execute_result"
    },
    {
     "data": {
      "image/png": "[encoded data removed]",
      "text/plain": [
       "<Figure size 640x480 with 1 Axes>"
      ]
     },
     "metadata": {},
     "output_type": "display_data"
    }
   ],
   "source": [
    "missing_values[\"% of Total Values\"].plot(\n",
    "    kind='bar', title='Missing Values % before preprocessing / Clean up')"
   ]
  },
  {
   "cell_type": "markdown",
   "id": "797e1e9e",
   "metadata": {},
   "source": [
    "## Now let's start the clean-up step by step for groups of columns."
   ]
  },
  {
   "cell_type": "markdown",
   "id": "d21c12fa",
   "metadata": {
    "lines_to_next_cell": 1
   },
   "source": [
    "### Drop id and text columns which we don't plan to use in the analysis. For example, scrape_id, last_scaped, name, summary, etc. columns are not relevant to answring the business questions we have. "
   ]
  },
  {
   "cell_type": "code",
   "execution_count": 7,
   "id": "0fc037be",
   "metadata": {
    "lines_to_next_cell": 1
   },
   "outputs": [],
   "source": [
    "def drop_columns(df, lst):\n",
    "    '''\n",
    "    This function will drop the specified columns from the dataframe and return the modified dataframe.\n",
    "    input: \n",
    "    df: dataframe\n",
    "    lst: list of columns to be dropped \n",
    "    returns: \n",
    "    dataframe with the specified columns removed\n",
    "    '''\n",
    "    df = df.drop(lst, axis=1)\n",
    "    return df"
   ]
  },
  {
   "cell_type": "code",
   "execution_count": 8,
   "id": "b3f521a1",
   "metadata": {
    "lines_to_next_cell": 1
   },
   "outputs": [],
   "source": [
    "lstDropColumns = [\n",
    "    'id', 'scrape_id', 'last_scraped', 'name', 'summary', 'space',\n",
    "    'description', 'experiences_offered', 'neighborhood_overview', 'notes',\n",
    "    'host_id', 'host_url', 'host_name', 'host_verifications', 'street',\n",
    "    'neighbourhood', 'city', 'state', 'market', 'smart_location',\n",
    "    'country_code', 'country', 'latitude', 'longitude', 'square_feet',\n",
    "    'calendar_last_scraped', 'requires_license', 'license',\n",
    "    'jurisdiction_names', 'zipcode', 'amenities', 'listing_url', 'host_since',\n",
    "    'host_location', 'host_neighbourhood', 'zipcode', 'host_since'\n",
    "]\n",
    "\n",
    "# call the function\n",
    "ldf1 = drop_columns(ldf0, lstDropColumns)"
   ]
  },
  {
   "cell_type": "markdown",
   "id": "87f2d566",
   "metadata": {},
   "source": [
    "### Some of the numeric columns have \\$, . or space that we can clean up:"
   ]
  },
  {
   "cell_type": "code",
   "execution_count": 9,
   "id": "5d601d4e",
   "metadata": {},
   "outputs": [],
   "source": [
    "def cleanNumbers(df, lst):\n",
    "    '''\n",
    "    function to clean numbers by removing non-numeric characters and replacing missing values with 0.\n",
    "    input:\n",
    "    df: dataframe to clean numbers\n",
    "    lst: list of numeric columns to be cleaned-up\n",
    "    returns: dataframe with cleaned numeric columns\n",
    "    '''\n",
    "    for col in lst:\n",
    "        df[col] = df[col].str.replace(r'[^\\d.]+', '')\n",
    "        df[col] = pd.to_numeric(df[col], errors='coerce', downcast='float')\n",
    "    return df"
   ]
  },
  {
   "cell_type": "code",
   "execution_count": 10,
   "id": "6153de33",
   "metadata": {},
   "outputs": [
    {
     "name": "stderr",
     "output_type": "stream",
     "text": [
      "C:\\Users\\Admin\\AppData\\Local\\Temp\\ipykernel_10372\\3498671099.py:10: FutureWarning: The default value of regex will change from True to False in a future version.\n",
      "  df[col] = df[col].str.replace(r'[^\\d.]+', '')\n"
     ]
    }
   ],
   "source": [
    "lstNumColumns = [\n",
    "    'price', 'monthly_price', 'security_deposit', 'weekly_price',\n",
    "    'cleaning_fee', 'extra_people', 'host_response_rate',\n",
    "    'host_acceptance_rate'\n",
    "]\n",
    "\n",
    "# call the cleanNumbers function\n",
    "ldf2 = cleanNumbers(ldf1, lstNumColumns)"
   ]
  },
  {
   "cell_type": "markdown",
   "id": "57edd8d3",
   "metadata": {},
   "source": [
    "### Let's check if those numbers columns cleaned and had datatype changed to float."
   ]
  },
  {
   "cell_type": "code",
   "execution_count": 11,
   "id": "84ab315a",
   "metadata": {},
   "outputs": [
    {
     "name": "stdout",
     "output_type": "stream",
     "text": [
      "<class 'pandas.core.frame.DataFrame'>\n",
      "RangeIndex: 3818 entries, 0 to 3817\n",
      "Data columns (total 8 columns):\n",
      " #   Column                Non-Null Count  Dtype  \n",
      "---  ------                --------------  -----  \n",
      " 0   price                 3818 non-null   float32\n",
      " 1   monthly_price         1517 non-null   float32\n",
      " 2   security_deposit      1866 non-null   float32\n",
      " 3   weekly_price          2009 non-null   float32\n",
      " 4   cleaning_fee          2788 non-null   float32\n",
      " 5   extra_people          3818 non-null   float32\n",
      " 6   host_response_rate    3295 non-null   float32\n",
      " 7   host_acceptance_rate  3045 non-null   float32\n",
      "dtypes: float32(8)\n",
      "memory usage: 119.4 KB\n"
     ]
    }
   ],
   "source": [
    "ldf2[lstNumColumns].info()"
   ]
  },
  {
   "cell_type": "markdown",
   "id": "a81b7fad",
   "metadata": {
    "lines_to_next_cell": 1
   },
   "source": [
    "### Create indicator columns to indicate presence or absence of."
   ]
  },
  {
   "cell_type": "code",
   "execution_count": 12,
   "id": "d5974bf2",
   "metadata": {},
   "outputs": [],
   "source": [
    "def convert_to_indicator(df, lstIndColumns):\n",
    "    \"\"\"\n",
    "    This function converts columns in dataframe to indicator variables.\n",
    "    It adds new columns with 'has_' prefix to the dataframe and assigns values to the columns\n",
    "    based on the presence of value in the original column.\n",
    "\n",
    "    Inputs:\n",
    "    df (DataFrame): Dataframe that contains the columns to be converted to indicator variables\n",
    "    lstIndColumns (list): List of columns that need to be converted to indicator variables\n",
    "\n",
    "    Returns:\n",
    "    DataFrame : Dataframe with new indicator variables added and original columns removed.\n",
    "    \"\"\"\n",
    "\n",
    "    for col in lstIndColumns:\n",
    "        new_col = 'has_' + col\n",
    "        df[new_col] = df[col].notna()\n",
    "        df = df.drop(col, axis=1)\n",
    "    return df"
   ]
  },
  {
   "cell_type": "code",
   "execution_count": 13,
   "id": "7e3e8de7",
   "metadata": {
    "lines_to_next_cell": 1
   },
   "outputs": [],
   "source": [
    "lstIndColumns = [\n",
    "    'transit', 'thumbnail_url', 'medium_url', 'picture_url', 'xl_picture_url',\n",
    "    'host_about', 'host_thumbnail_url', 'host_picture_url'\n",
    "]\n",
    "\n",
    "# call the function\n",
    "ldf3 = convert_to_indicator(ldf2, lstIndColumns)"
   ]
  },
  {
   "cell_type": "markdown",
   "id": "52bfaf5a",
   "metadata": {},
   "source": [
    "### Let's verify if it worked or not."
   ]
  },
  {
   "cell_type": "code",
   "execution_count": 14,
   "id": "81882271",
   "metadata": {},
   "outputs": [
    {
     "name": "stdout",
     "output_type": "stream",
     "text": [
      "Column names before:  Index(['transit', 'thumbnail_url', 'medium_url', 'picture_url',\n",
      "       'xl_picture_url', 'host_about', 'host_response_time',\n",
      "       'host_response_rate', 'host_acceptance_rate', 'host_is_superhost',\n",
      "       'host_thumbnail_url', 'host_picture_url', 'host_listings_count',\n",
      "       'host_total_listings_count', 'host_has_profile_pic',\n",
      "       'host_identity_verified', 'neighbourhood_cleansed',\n",
      "       'neighbourhood_group_cleansed', 'is_location_exact', 'property_type',\n",
      "       'room_type', 'accommodates', 'bathrooms', 'bedrooms', 'beds',\n",
      "       'bed_type', 'price', 'weekly_price', 'monthly_price',\n",
      "       'security_deposit', 'cleaning_fee', 'guests_included', 'extra_people',\n",
      "       'minimum_nights', 'maximum_nights', 'calendar_updated',\n",
      "       'has_availability', 'availability_30', 'availability_60',\n",
      "       'availability_90', 'availability_365', 'number_of_reviews',\n",
      "       'first_review', 'last_review', 'review_scores_rating',\n",
      "       'review_scores_accuracy', 'review_scores_cleanliness',\n",
      "       'review_scores_checkin', 'review_scores_communication',\n",
      "       'review_scores_location', 'review_scores_value', 'instant_bookable',\n",
      "       'cancellation_policy', 'require_guest_profile_picture',\n",
      "       'require_guest_phone_verification', 'calculated_host_listings_count',\n",
      "       'reviews_per_month', 'has_transit'],\n",
      "      dtype='object')\n",
      "Column names after:  Index(['host_response_time', 'host_response_rate', 'host_acceptance_rate',\n",
      "       'host_is_superhost', 'host_listings_count', 'host_total_listings_count',\n",
      "       'host_has_profile_pic', 'host_identity_verified',\n",
      "       'neighbourhood_cleansed', 'neighbourhood_group_cleansed',\n",
      "       'is_location_exact', 'property_type', 'room_type', 'accommodates',\n",
      "       'bathrooms', 'bedrooms', 'beds', 'bed_type', 'price', 'weekly_price',\n",
      "       'monthly_price', 'security_deposit', 'cleaning_fee', 'guests_included',\n",
      "       'extra_people', 'minimum_nights', 'maximum_nights', 'calendar_updated',\n",
      "       'has_availability', 'availability_30', 'availability_60',\n",
      "       'availability_90', 'availability_365', 'number_of_reviews',\n",
      "       'first_review', 'last_review', 'review_scores_rating',\n",
      "       'review_scores_accuracy', 'review_scores_cleanliness',\n",
      "       'review_scores_checkin', 'review_scores_communication',\n",
      "       'review_scores_location', 'review_scores_value', 'instant_bookable',\n",
      "       'cancellation_policy', 'require_guest_profile_picture',\n",
      "       'require_guest_phone_verification', 'calculated_host_listings_count',\n",
      "       'reviews_per_month', 'has_transit', 'has_thumbnail_url',\n",
      "       'has_medium_url', 'has_picture_url', 'has_xl_picture_url',\n",
      "       'has_host_about', 'has_host_thumbnail_url', 'has_host_picture_url'],\n",
      "      dtype='object')\n",
      "Values in has_transit column: [False  True]\n",
      "Values in has_thumbnail_url column: [False  True]\n",
      "Values in has_medium_url column: [False  True]\n",
      "Values in has_picture_url column: [ True]\n",
      "Values in has_xl_picture_url column: [False  True]\n",
      "Values in has_host_about column: [ True False]\n",
      "Values in has_host_thumbnail_url column: [ True False]\n",
      "Values in has_host_picture_url column: [ True False]\n",
      "Shape of dataframe before calling the function: (3818, 58)\n",
      "Shape of dataframe after calling the function: (3818, 57)\n"
     ]
    }
   ],
   "source": [
    "# check the column names of the dataframe before calling the function\n",
    "print(\"Column names before: \", ldf2.columns)\n",
    "\n",
    "# call the function\n",
    "ldf3 = convert_to_indicator(ldf2, lstIndColumns)\n",
    "\n",
    "# check the column names of the dataframe after calling the function\n",
    "print(\"Column names after: \", ldf3.columns)\n",
    "\n",
    "# check the values in the new columns\n",
    "for col in lstIndColumns:\n",
    "    new_col = 'has_' + col\n",
    "    print(f'Values in {new_col} column: {ldf3[new_col].unique()}')\n",
    "\n",
    "# check the shape of the dataframe before and after calling the function\n",
    "print(f'Shape of dataframe before calling the function: {ldf2.shape}')\n",
    "print(f'Shape of dataframe after calling the function: {ldf3.shape}')"
   ]
  },
  {
   "cell_type": "markdown",
   "id": "faa14443",
   "metadata": {},
   "source": [
    "### It worked, row counts are same, we have new variables prefixed with has_, and old column have been dropped. \n",
    "\n",
    "### Let's move on to 'host_response_rate' and 'host_acceptance_rate' columns to check if they have missing values."
   ]
  },
  {
   "cell_type": "code",
   "execution_count": 15,
   "id": "b49e1d4d",
   "metadata": {},
   "outputs": [
    {
     "name": "stdout",
     "output_type": "stream",
     "text": [
      "% of missing values for \n"
     ]
    },
    {
     "data": {
      "text/plain": [
       "host_response_rate      13.698271\n",
       "host_acceptance_rate    20.246202\n",
       "dtype: float64"
      ]
     },
     "execution_count": 15,
     "metadata": {},
     "output_type": "execute_result"
    }
   ],
   "source": [
    "lstBlankColumns = ['host_response_rate', 'host_acceptance_rate']\n",
    "print(\"% of missing values for \")\n",
    "100 * ldf3[lstBlankColumns].isnull().sum() / len(ldf3)"
   ]
  },
  {
   "cell_type": "code",
   "execution_count": 16,
   "id": "a1f465ad",
   "metadata": {},
   "outputs": [
    {
     "name": "stdout",
     "output_type": "stream",
     "text": [
      "Before imputation mean was:\n",
      " host_response_rate      94.886795\n",
      "host_acceptance_rate    99.967163\n",
      "dtype: float32\n"
     ]
    }
   ],
   "source": [
    "print(\"Before imputation mean was:\\n\", ldf3[lstBlankColumns].mean())"
   ]
  },
  {
   "cell_type": "markdown",
   "id": "352b10a3",
   "metadata": {},
   "source": [
    "### These missing values can be imputed to average in 'host_response_rate', 'host_acceptance_rate' columns."
   ]
  },
  {
   "cell_type": "code",
   "execution_count": 17,
   "id": "724d48b3",
   "metadata": {},
   "outputs": [],
   "source": [
    "ldf3['host_response_rate'].interpolate(method='linear', inplace=True)\n",
    "ldf3['host_acceptance_rate'].interpolate(method='linear', inplace=True)"
   ]
  },
  {
   "cell_type": "code",
   "execution_count": 18,
   "id": "4a3ecf15",
   "metadata": {},
   "outputs": [
    {
     "name": "stdout",
     "output_type": "stream",
     "text": [
      "After imputation mean was:\n",
      " host_response_rate      94.916321\n",
      "host_acceptance_rate    99.973808\n",
      "dtype: float32\n"
     ]
    }
   ],
   "source": [
    "print(\"After imputation mean was:\\n\", ldf3[lstBlankColumns].mean())"
   ]
  },
  {
   "cell_type": "markdown",
   "id": "b6881f28",
   "metadata": {
    "lines_to_next_cell": 1
   },
   "source": [
    "### Observe that the mean for these 2 columns increased after imputation, so it worked."
   ]
  },
  {
   "cell_type": "code",
   "execution_count": 19,
   "id": "5eae39e8",
   "metadata": {},
   "outputs": [],
   "source": [
    "def replace_blanks_host_listings(df, lst):\n",
    "    '''\n",
    "    This function will replace blanks with 1 in given list of columns.\n",
    "    Inputs:\n",
    "        df (DataFrame): The input dataframe to update.\n",
    "        lst (list): list of columns with blanks to be replaced.\n",
    "    Returns:\n",
    "        df (DataFrame): The updated dataframe with replaced blanks.\n",
    "    '''\n",
    "    for column in lst:\n",
    "        df[column] = df[column].replace('', 1, inplace=True)\n",
    "    return df"
   ]
  },
  {
   "cell_type": "markdown",
   "id": "7bf5c54b",
   "metadata": {},
   "source": [
    "### Let's convert some of these categorical variables to dummy variable so that they can be used in the models:"
   ]
  },
  {
   "cell_type": "code",
   "execution_count": 20,
   "id": "1a272140",
   "metadata": {},
   "outputs": [],
   "source": [
    "def convert_to_dummies(df, lst):\n",
    "    '''\n",
    "    This function will iterate over the given columns and for each column, it will create dummy variables and concatenate them \n",
    "    to the dataframe and drop the original column.\n",
    "    Inputs:\n",
    "    df : DataFrame - the input dataframe to create dummy variables from\n",
    "    lst : list - a list of columns names to be converted to dummy variables\n",
    "    \n",
    "    Returns:\n",
    "    DataFrame - the modified dataframe with dummy variables without original variables\n",
    "    '''\n",
    "    for column in lst:\n",
    "        dummies = pd.get_dummies(df[column], prefix=column)\n",
    "        df = pd.concat([df, dummies], axis=1)\n",
    "        df = df.drop([column], axis=1)\n",
    "    return df"
   ]
  },
  {
   "cell_type": "code",
   "execution_count": 21,
   "id": "08f2b583",
   "metadata": {},
   "outputs": [],
   "source": [
    "lstDummyColumns4 = [\n",
    "    'host_response_time', 'property_type', 'room_type', 'accommodates',\n",
    "    'bathrooms', 'bedrooms', 'beds', 'bed_type', 'guests_included',\n",
    "    'extra_people', 'calendar_updated', 'cancellation_policy'\n",
    "]\n",
    "\n",
    "# Call the function\n",
    "ldf6 = convert_to_dummies(ldf3, lstDummyColumns4)"
   ]
  },
  {
   "cell_type": "code",
   "execution_count": 22,
   "id": "3aae4c68",
   "metadata": {},
   "outputs": [
    {
     "name": "stdout",
     "output_type": "stream",
     "text": [
      "list of columns :\n",
      " ['host_response_rate', 'host_acceptance_rate', 'host_is_superhost', 'host_listings_count', 'host_total_listings_count', 'host_has_profile_pic', 'host_identity_verified', 'neighbourhood_cleansed', 'neighbourhood_group_cleansed', 'is_location_exact', 'price', 'weekly_price', 'monthly_price', 'security_deposit', 'cleaning_fee', 'minimum_nights', 'maximum_nights', 'has_availability', 'availability_30', 'availability_60', 'availability_90', 'availability_365', 'number_of_reviews', 'first_review', 'last_review', 'review_scores_rating', 'review_scores_accuracy', 'review_scores_cleanliness', 'review_scores_checkin', 'review_scores_communication', 'review_scores_location', 'review_scores_value', 'instant_bookable', 'require_guest_profile_picture', 'require_guest_phone_verification', 'calculated_host_listings_count', 'reviews_per_month', 'has_transit', 'has_thumbnail_url', 'has_medium_url', 'has_picture_url', 'has_xl_picture_url', 'has_host_about', 'has_host_thumbnail_url', 'has_host_picture_url', 'host_response_time_a few days or more', 'host_response_time_within a day', 'host_response_time_within a few hours', 'host_response_time_within an hour', 'property_type_Apartment', 'property_type_Bed & Breakfast', 'property_type_Boat', 'property_type_Bungalow', 'property_type_Cabin', 'property_type_Camper/RV', 'property_type_Chalet', 'property_type_Condominium', 'property_type_Dorm', 'property_type_House', 'property_type_Loft', 'property_type_Other', 'property_type_Tent', 'property_type_Townhouse', 'property_type_Treehouse', 'property_type_Yurt', 'room_type_Entire home/apt', 'room_type_Private room', 'room_type_Shared room', 'accommodates_1', 'accommodates_2', 'accommodates_3', 'accommodates_4', 'accommodates_5', 'accommodates_6', 'accommodates_7', 'accommodates_8', 'accommodates_9', 'accommodates_10', 'accommodates_11', 'accommodates_12', 'accommodates_14', 'accommodates_15', 'accommodates_16', 'bathrooms_0.0', 'bathrooms_0.5', 'bathrooms_1.0', 'bathrooms_1.5', 'bathrooms_2.0', 'bathrooms_2.5', 'bathrooms_3.0', 'bathrooms_3.5', 'bathrooms_4.0', 'bathrooms_4.5', 'bathrooms_5.0', 'bathrooms_8.0', 'bedrooms_0.0', 'bedrooms_1.0', 'bedrooms_2.0', 'bedrooms_3.0', 'bedrooms_4.0', 'bedrooms_5.0', 'bedrooms_6.0', 'bedrooms_7.0', 'beds_1.0', 'beds_2.0', 'beds_3.0', 'beds_4.0', 'beds_5.0', 'beds_6.0', 'beds_7.0', 'beds_8.0', 'beds_9.0', 'beds_10.0', 'beds_15.0', 'bed_type_Airbed', 'bed_type_Couch', 'bed_type_Futon', 'bed_type_Pull-out Sofa', 'bed_type_Real Bed', 'guests_included_0', 'guests_included_1', 'guests_included_2', 'guests_included_3', 'guests_included_4', 'guests_included_5', 'guests_included_6', 'guests_included_7', 'guests_included_8', 'guests_included_9', 'guests_included_10', 'guests_included_11', 'guests_included_12', 'guests_included_13', 'guests_included_15', 'extra_people_0.0', 'extra_people_5.0', 'extra_people_6.0', 'extra_people_7.0', 'extra_people_8.0', 'extra_people_9.0', 'extra_people_10.0', 'extra_people_12.0', 'extra_people_13.0', 'extra_people_14.0', 'extra_people_15.0', 'extra_people_16.0', 'extra_people_17.0', 'extra_people_18.0', 'extra_people_19.0', 'extra_people_20.0', 'extra_people_21.0', 'extra_people_22.0', 'extra_people_25.0', 'extra_people_26.0', 'extra_people_27.0', 'extra_people_28.0', 'extra_people_29.0', 'extra_people_30.0', 'extra_people_33.0', 'extra_people_35.0', 'extra_people_36.0', 'extra_people_40.0', 'extra_people_44.0', 'extra_people_45.0', 'extra_people_48.0', 'extra_people_49.0', 'extra_people_50.0', 'extra_people_55.0', 'extra_people_60.0', 'extra_people_68.0', 'extra_people_71.0', 'extra_people_75.0', 'extra_people_80.0', 'extra_people_85.0', 'extra_people_100.0', 'extra_people_175.0', 'extra_people_200.0', 'extra_people_250.0', 'extra_people_300.0', 'calendar_updated_1 week ago', 'calendar_updated_10 months ago', 'calendar_updated_11 months ago', 'calendar_updated_12 months ago', 'calendar_updated_13 months ago', 'calendar_updated_14 months ago', 'calendar_updated_15 months ago', 'calendar_updated_16 months ago', 'calendar_updated_17 months ago', 'calendar_updated_2 days ago', 'calendar_updated_2 months ago', 'calendar_updated_2 weeks ago', 'calendar_updated_22 months ago', 'calendar_updated_3 days ago', 'calendar_updated_3 months ago', 'calendar_updated_3 weeks ago', 'calendar_updated_30 months ago', 'calendar_updated_4 days ago', 'calendar_updated_4 months ago', 'calendar_updated_4 weeks ago', 'calendar_updated_5 days ago', 'calendar_updated_5 months ago', 'calendar_updated_5 weeks ago', 'calendar_updated_6 days ago', 'calendar_updated_6 months ago', 'calendar_updated_6 weeks ago', 'calendar_updated_7 months ago', 'calendar_updated_7 weeks ago', 'calendar_updated_8 months ago', 'calendar_updated_9 months ago', 'calendar_updated_a week ago', 'calendar_updated_never', 'calendar_updated_today', 'calendar_updated_yesterday', 'cancellation_policy_flexible', 'cancellation_policy_moderate', 'cancellation_policy_strict']\n"
     ]
    }
   ],
   "source": [
    "lstCols = list(ldf6.columns)\n",
    "print(\"list of columns :\\n\", lstCols)"
   ]
  },
  {
   "cell_type": "code",
   "execution_count": 23,
   "id": "9537a49d",
   "metadata": {},
   "outputs": [
    {
     "name": "stdout",
     "output_type": "stream",
     "text": [
      "The number of variables increased to : 216\n"
     ]
    }
   ],
   "source": [
    "print(\"The number of variables increased to :\", ldf6.shape[1])"
   ]
  },
  {
   "cell_type": "markdown",
   "id": "3167babc",
   "metadata": {},
   "source": [
    "### Removed below variables from creating dummy varibales since they are numeric and there are too many values in them:\n",
    "#### 'minimum_nights','maximum_nights','availability_30', 'availability_60', 'availability_90', 'availability_365','calculated_host_listings_count','host_listings_count', 'host_total_listings_count' 'host_is_superhost', 'host_has_profile_pic', 'host_identity_verified', 'is_location_exact','has_availability','instant_bookable','require_guest_profile_picture', 'require_guest_phone_verification'\n",
    "\n",
    "###  Below are already created in previous step:\n",
    "#### 'has_transit','has_thumbnail_url','has_medium_url','has_picture_url','has_xl_picture_url', 'has_host_about','has_host_thumbnail_url','has_host_picture_url'"
   ]
  },
  {
   "cell_type": "markdown",
   "id": "a75901f8",
   "metadata": {},
   "source": [
    "### The \"Number of reviews\" for a listing is an important variable from both business and tourist point of view. Let's create a new column with the bins of steps of 10 and then create dummy columns for those bins. "
   ]
  },
  {
   "cell_type": "code",
   "execution_count": 24,
   "id": "a6df0098",
   "metadata": {},
   "outputs": [],
   "source": [
    "def create_reviews_dummies(df):\n",
    "    '''\n",
    "    This function will create new columns with bins for the \"number_of_reviews\" variable, and then create dummy columns for the bins.\n",
    "    inputs :\n",
    "    df : DataFrame - the input dataframe to create dummy variables from\n",
    "    Returns:\n",
    "    DataFrame - the modified dataframe with dummy variables for \"number of reviews\" variable\n",
    "    '''\n",
    "    df[\"number_of_reviews_binned\"] = pd.cut(df[\"number_of_reviews\"],\n",
    "                                            bins=range(0, 100, 10),\n",
    "                                            right=False,\n",
    "                                            labels=range(0, 9))\n",
    "    dummies = pd.get_dummies(df[\"number_of_reviews_binned\"],\n",
    "                             prefix=\"number_of_reviews\")\n",
    "    df = pd.concat([df, dummies], axis=1)\n",
    "    df.drop([\"number_of_reviews\", \"number_of_reviews_binned\"],\n",
    "            axis=1,\n",
    "            inplace=True)\n",
    "    return df"
   ]
  },
  {
   "cell_type": "code",
   "execution_count": 25,
   "id": "1b599878",
   "metadata": {},
   "outputs": [
    {
     "name": "stdout",
     "output_type": "stream",
     "text": [
      "<class 'pandas.core.frame.DataFrame'>\n",
      "RangeIndex: 3818 entries, 0 to 3817\n",
      "Columns: 224 entries, host_response_rate to number_of_reviews_8\n",
      "dtypes: bool(8), float32(7), float64(10), int64(7), object(12), uint8(180)\n",
      "memory usage: 1.6+ MB\n"
     ]
    }
   ],
   "source": [
    "# Call the function to create dummy variables for binned no. of reviews for each listing\n",
    "ldf7 = create_reviews_dummies(ldf6)\n",
    "ldf7.info()"
   ]
  },
  {
   "cell_type": "code",
   "execution_count": 26,
   "id": "ea68422d",
   "metadata": {},
   "outputs": [
    {
     "name": "stdout",
     "output_type": "stream",
     "text": [
      "The number of variables increased to : 224\n"
     ]
    }
   ],
   "source": [
    "print(\"The number of variables increased to :\", ldf7.shape[1])"
   ]
  },
  {
   "cell_type": "markdown",
   "id": "845b3e93",
   "metadata": {},
   "source": [
    "### The \"Number of reviews per month\" for a listing is important variable from both business and tourist point of view. Let's create a new column with the bins of steps of 10 and then create dummy columns for those bins. "
   ]
  },
  {
   "cell_type": "code",
   "execution_count": 27,
   "id": "d764103c",
   "metadata": {},
   "outputs": [],
   "source": [
    "def create_reviews_per_month_dummies(df):\n",
    "    '''\n",
    "    This function will create a new column \"reviews_per_month_binned\" by binning the values of the \"reviews_per_month\" column in steps of 1, \n",
    "    and then it will create dummy columns for each bin.\n",
    "    Input: \n",
    "        - df : dataframe \n",
    "    Returns: \n",
    "        - dataframe : with dummy columns without the original column \"reviews_per_month\"\n",
    "    '''\n",
    "    df[\"reviews_per_month_binned\"] = pd.cut(df[\"reviews_per_month\"],\n",
    "                                            bins=range(0, 15, 1),\n",
    "                                            right=False,\n",
    "                                            labels=range(0, 14))\n",
    "    dummies = pd.get_dummies(df[\"reviews_per_month_binned\"],\n",
    "                             prefix=\"reviews_per_month\")\n",
    "    df = pd.concat([df, dummies], axis=1)\n",
    "    df.drop([\"reviews_per_month\", \"reviews_per_month_binned\"],\n",
    "            axis=1,\n",
    "            inplace=True)\n",
    "    return df"
   ]
  },
  {
   "cell_type": "code",
   "execution_count": 28,
   "id": "d685d6b1",
   "metadata": {},
   "outputs": [
    {
     "name": "stdout",
     "output_type": "stream",
     "text": [
      "<class 'pandas.core.frame.DataFrame'>\n",
      "RangeIndex: 3818 entries, 0 to 3817\n",
      "Columns: 237 entries, host_response_rate to reviews_per_month_13\n",
      "dtypes: bool(8), float32(7), float64(9), int64(7), object(12), uint8(194)\n",
      "memory usage: 1.7+ MB\n"
     ]
    }
   ],
   "source": [
    "# Call the function to create dummy variables for binned no. of reviews per month for each listing\n",
    "ldf8 = create_reviews_per_month_dummies(ldf7)\n",
    "ldf8.info()"
   ]
  },
  {
   "cell_type": "code",
   "execution_count": 29,
   "id": "bed6abcb",
   "metadata": {},
   "outputs": [
    {
     "name": "stdout",
     "output_type": "stream",
     "text": [
      "The number of variables increased to : 237\n"
     ]
    }
   ],
   "source": [
    "print(\"The number of variables increased to :\", ldf8.shape[1])"
   ]
  },
  {
   "cell_type": "markdown",
   "id": "5da8e486",
   "metadata": {},
   "source": [
    "### I think age of a customer review matters when looking at a Airbnb listing, to find put how much, let's create binned dummy variables for days_since_first_review:"
   ]
  },
  {
   "cell_type": "code",
   "execution_count": 30,
   "id": "d5fedb75",
   "metadata": {},
   "outputs": [],
   "source": [
    "def create_days_since_first_review_bins(df):\n",
    "    '''\n",
    "    This function will create a new column \"days_since_first_review\" and it will calculate the difference between the \n",
    "    \"first_review\" column and today's date. If the \"first_review\" column is not present or has missing values, then it will assign None to that record. \n",
    "    Then it will create dummy variables for each bin in the 10 day increments, using the \"days_since_first_review\" column.\n",
    "    Input:\n",
    "        df: Dataframe containing the \"first_review\" column\n",
    "    Returns:\n",
    "        Dataframe with added \"days_since_first_review\" column and dummy variables for that column in 10 day increments, without the original \"days_since_first_review\" column.\n",
    "    '''\n",
    "    todey = datetime.now()\n",
    "    df['first_review'] = pd.to_datetime(df['first_review'], errors='coerce')\n",
    "\n",
    "    df.loc[df['first_review'].notna(),\n",
    "           'days_since_first_review'] = (todey - df['first_review']).dt.days\n",
    "\n",
    "    df['days_since_first_review'].fillna(value=np.nan, inplace=True)\n",
    "    bins = pd.cut(df['days_since_first_review'], [\n",
    "        0, 10, 20, 30, 40, 50, 60, 70, 80, 90, 100, 110, 120, 130, 140, 150,\n",
    "        160, 170, 180, 190, 200, np.inf\n",
    "    ],\n",
    "                  labels=[\n",
    "                      \"0-10\", \"11-20\", \"21-30\", \"31-40\", \"41-50\", \"51-60\",\n",
    "                      \"61-70\", \"71-80\", \"81-90\", \"91-100\", \"101-110\",\n",
    "                      \"111-120\", \"121-130\", \"131-140\", \"141-150\", \"151-160\",\n",
    "                      \"161-170\", \"171-180\", \"181-190\", \"191-200\", \"201+\"\n",
    "                  ])\n",
    "    df = pd.concat(\n",
    "        [df, pd.get_dummies(bins, prefix='days_since_first_review')], axis=1)\n",
    "    df = df.drop(['days_since_first_review', 'first_review'], axis=1)\n",
    "    return df"
   ]
  },
  {
   "cell_type": "code",
   "execution_count": 31,
   "id": "4ab86538",
   "metadata": {},
   "outputs": [
    {
     "name": "stdout",
     "output_type": "stream",
     "text": [
      "<class 'pandas.core.frame.DataFrame'>\n",
      "RangeIndex: 3818 entries, 0 to 3817\n",
      "Columns: 257 entries, host_response_rate to days_since_first_review_201+\n",
      "dtypes: bool(8), float32(7), float64(9), int64(7), object(11), uint8(215)\n",
      "memory usage: 1.7+ MB\n"
     ]
    }
   ],
   "source": [
    "ldf9 = create_days_since_first_review_bins(ldf8)\n",
    "ldf9.info()"
   ]
  },
  {
   "cell_type": "code",
   "execution_count": 32,
   "id": "2083383c",
   "metadata": {},
   "outputs": [
    {
     "name": "stdout",
     "output_type": "stream",
     "text": [
      "The number of variables increased to : 257\n"
     ]
    }
   ],
   "source": [
    "print(\"The number of variables increased to :\", ldf9.shape[1])"
   ]
  },
  {
   "cell_type": "markdown",
   "id": "1cb2eb0b",
   "metadata": {},
   "source": [
    "### Similarly create binned dummy variables for days_since_last_review:"
   ]
  },
  {
   "cell_type": "code",
   "execution_count": 33,
   "id": "612874a3",
   "metadata": {},
   "outputs": [],
   "source": [
    "def create_days_since_last_review_bins(df):\n",
    "    '''\n",
    "    This function will create a new column \"days_since_last_review\" and it will calculate the difference between the\n",
    "    \"last_review\" and today's date. If the last_review is not present then it will assign None to that record. The function will also create bins for the \"days_since_last_review\" variable, and create dummy variables for each bin.\n",
    "    Input:\n",
    "        - df: Dataframe containing a \"last_review\" column of datetime type.\n",
    "    Returns:\n",
    "        - Dataframe with dummy variables for \"days since last review\" variable without original variable.\n",
    "    '''\n",
    "    todey = datetime.now()\n",
    "    df['last_review'] = pd.to_datetime(df['last_review'], errors='coerce')\n",
    "\n",
    "    df.loc[df['last_review'].notna(),\n",
    "           'days_since_last_review'] = (todey - df['last_review']).dt.days\n",
    "\n",
    "    df['days_since_last_review'].fillna(value=np.nan, inplace=True)\n",
    "    bins = pd.cut(df['days_since_last_review'], [\n",
    "        0, 10, 20, 30, 40, 50, 60, 70, 80, 90, 100, 110, 120, 130, 140, 150,\n",
    "        160, 170, 180, 190, 200, np.inf\n",
    "    ],\n",
    "                  labels=[\n",
    "                      \"0-10\", \"11-20\", \"21-30\", \"31-40\", \"41-50\", \"51-60\",\n",
    "                      \"61-70\", \"71-80\", \"81-90\", \"91-100\", \"101-110\",\n",
    "                      \"111-120\", \"121-130\", \"131-140\", \"141-150\", \"151-160\",\n",
    "                      \"161-170\", \"171-180\", \"181-190\", \"191-200\", \"201+\"\n",
    "                  ])\n",
    "    df = pd.concat(\n",
    "        [df, pd.get_dummies(bins, prefix='days_since_last_review')], axis=1)\n",
    "    df = df.drop(['days_since_last_review', 'last_review'], axis=1)\n",
    "    return df"
   ]
  },
  {
   "cell_type": "code",
   "execution_count": 34,
   "id": "07cbccc1",
   "metadata": {},
   "outputs": [
    {
     "name": "stdout",
     "output_type": "stream",
     "text": [
      "<class 'pandas.core.frame.DataFrame'>\n",
      "RangeIndex: 3818 entries, 0 to 3817\n",
      "Columns: 277 entries, host_response_rate to days_since_last_review_201+\n",
      "dtypes: bool(8), float32(7), float64(9), int64(7), object(10), uint8(236)\n",
      "memory usage: 1.7+ MB\n"
     ]
    }
   ],
   "source": [
    "ldf10 = create_days_since_last_review_bins(ldf9)\n",
    "ldf10.info()"
   ]
  },
  {
   "cell_type": "code",
   "execution_count": 35,
   "id": "b056c762",
   "metadata": {},
   "outputs": [
    {
     "name": "stdout",
     "output_type": "stream",
     "text": [
      "The number of variables increased to : 277\n"
     ]
    }
   ],
   "source": [
    "print(\"The number of variables increased to :\", ldf10.shape[1])"
   ]
  },
  {
   "cell_type": "markdown",
   "id": "4ce81806",
   "metadata": {},
   "source": [
    "### Next set of variables is the review scores, which I think is critical for both tourists and the Airbnb host. Earlier we saw about 16% to 17% rows have missing values for the review score columns. Let's review their summary statistics:"
   ]
  },
  {
   "cell_type": "code",
   "execution_count": 36,
   "id": "16d1dac4",
   "metadata": {},
   "outputs": [
    {
     "data": {
      "text/html": [
       "<div>\n",
       "<style scoped>\n",
       "    .dataframe tbody tr th:only-of-type {\n",
       "        vertical-align: middle;\n",
       "    }\n",
       "\n",
       "    .dataframe tbody tr th {\n",
       "        vertical-align: top;\n",
       "    }\n",
       "\n",
       "    .dataframe thead th {\n",
       "        text-align: right;\n",
       "    }\n",
       "</style>\n",
       "<table border=\"1\" class=\"dataframe\">\n",
       "  <thead>\n",
       "    <tr style=\"text-align: right;\">\n",
       "      <th></th>\n",
       "      <th>review_scores_rating</th>\n",
       "      <th>review_scores_accuracy</th>\n",
       "      <th>review_scores_cleanliness</th>\n",
       "      <th>review_scores_checkin</th>\n",
       "      <th>review_scores_communication</th>\n",
       "      <th>review_scores_location</th>\n",
       "      <th>review_scores_value</th>\n",
       "    </tr>\n",
       "  </thead>\n",
       "  <tbody>\n",
       "    <tr>\n",
       "      <th>count</th>\n",
       "      <td>3171.000000</td>\n",
       "      <td>3160.000000</td>\n",
       "      <td>3165.000000</td>\n",
       "      <td>3160.000000</td>\n",
       "      <td>3167.000000</td>\n",
       "      <td>3163.000000</td>\n",
       "      <td>3162.000000</td>\n",
       "    </tr>\n",
       "    <tr>\n",
       "      <th>mean</th>\n",
       "      <td>94.539262</td>\n",
       "      <td>9.636392</td>\n",
       "      <td>9.556398</td>\n",
       "      <td>9.786709</td>\n",
       "      <td>9.809599</td>\n",
       "      <td>9.608916</td>\n",
       "      <td>9.452245</td>\n",
       "    </tr>\n",
       "    <tr>\n",
       "      <th>std</th>\n",
       "      <td>6.606083</td>\n",
       "      <td>0.698031</td>\n",
       "      <td>0.797274</td>\n",
       "      <td>0.595499</td>\n",
       "      <td>0.568211</td>\n",
       "      <td>0.629053</td>\n",
       "      <td>0.750259</td>\n",
       "    </tr>\n",
       "    <tr>\n",
       "      <th>min</th>\n",
       "      <td>20.000000</td>\n",
       "      <td>2.000000</td>\n",
       "      <td>3.000000</td>\n",
       "      <td>2.000000</td>\n",
       "      <td>2.000000</td>\n",
       "      <td>4.000000</td>\n",
       "      <td>2.000000</td>\n",
       "    </tr>\n",
       "    <tr>\n",
       "      <th>25%</th>\n",
       "      <td>93.000000</td>\n",
       "      <td>9.000000</td>\n",
       "      <td>9.000000</td>\n",
       "      <td>10.000000</td>\n",
       "      <td>10.000000</td>\n",
       "      <td>9.000000</td>\n",
       "      <td>9.000000</td>\n",
       "    </tr>\n",
       "    <tr>\n",
       "      <th>50%</th>\n",
       "      <td>96.000000</td>\n",
       "      <td>10.000000</td>\n",
       "      <td>10.000000</td>\n",
       "      <td>10.000000</td>\n",
       "      <td>10.000000</td>\n",
       "      <td>10.000000</td>\n",
       "      <td>10.000000</td>\n",
       "    </tr>\n",
       "    <tr>\n",
       "      <th>75%</th>\n",
       "      <td>99.000000</td>\n",
       "      <td>10.000000</td>\n",
       "      <td>10.000000</td>\n",
       "      <td>10.000000</td>\n",
       "      <td>10.000000</td>\n",
       "      <td>10.000000</td>\n",
       "      <td>10.000000</td>\n",
       "    </tr>\n",
       "    <tr>\n",
       "      <th>max</th>\n",
       "      <td>100.000000</td>\n",
       "      <td>10.000000</td>\n",
       "      <td>10.000000</td>\n",
       "      <td>10.000000</td>\n",
       "      <td>10.000000</td>\n",
       "      <td>10.000000</td>\n",
       "      <td>10.000000</td>\n",
       "    </tr>\n",
       "  </tbody>\n",
       "</table>\n",
       "</div>"
      ],
      "text/plain": [
       "       review_scores_rating  review_scores_accuracy  \\\n",
       "count           3171.000000             3160.000000   \n",
       "mean              94.539262                9.636392   \n",
       "std                6.606083                0.698031   \n",
       "min               20.000000                2.000000   \n",
       "25%               93.000000                9.000000   \n",
       "50%               96.000000               10.000000   \n",
       "75%               99.000000               10.000000   \n",
       "max              100.000000               10.000000   \n",
       "\n",
       "       review_scores_cleanliness  review_scores_checkin  \\\n",
       "count                3165.000000            3160.000000   \n",
       "mean                    9.556398               9.786709   \n",
       "std                     0.797274               0.595499   \n",
       "min                     3.000000               2.000000   \n",
       "25%                     9.000000              10.000000   \n",
       "50%                    10.000000              10.000000   \n",
       "75%                    10.000000              10.000000   \n",
       "max                    10.000000              10.000000   \n",
       "\n",
       "       review_scores_communication  review_scores_location  \\\n",
       "count                  3167.000000             3163.000000   \n",
       "mean                      9.809599                9.608916   \n",
       "std                       0.568211                0.629053   \n",
       "min                       2.000000                4.000000   \n",
       "25%                      10.000000                9.000000   \n",
       "50%                      10.000000               10.000000   \n",
       "75%                      10.000000               10.000000   \n",
       "max                      10.000000               10.000000   \n",
       "\n",
       "       review_scores_value  \n",
       "count          3162.000000  \n",
       "mean              9.452245  \n",
       "std               0.750259  \n",
       "min               2.000000  \n",
       "25%               9.000000  \n",
       "50%              10.000000  \n",
       "75%              10.000000  \n",
       "max              10.000000  "
      ]
     },
     "execution_count": 36,
     "metadata": {},
     "output_type": "execute_result"
    }
   ],
   "source": [
    "lstNumColumns2 = [\n",
    "    \"review_scores_rating\", \"review_scores_accuracy\",\n",
    "    \"review_scores_cleanliness\", \"review_scores_checkin\",\n",
    "    \"review_scores_communication\", \"review_scores_location\",\n",
    "    \"review_scores_value\"\n",
    "]\n",
    "ldf10[lstNumColumns2].describe()"
   ]
  },
  {
   "cell_type": "markdown",
   "id": "5901065a",
   "metadata": {},
   "source": [
    "### Note, all of these review score variables have range low 2s and 10, except review_scores_rating ranges from 0 to 100. Since all of them are numeric they can be used in the model as long as we scale them first. \n",
    "\n",
    "### We will impute those missing values in review score numeric columns to average of that column (even though % of missing values is greater than 5%).\n"
   ]
  },
  {
   "cell_type": "code",
   "execution_count": 37,
   "id": "f8db7e7f",
   "metadata": {
    "lines_to_next_cell": 1
   },
   "outputs": [],
   "source": [
    "def impute_missing_review_scores(df, lst):\n",
    "    '''\n",
    "    This function will impute the missing values in the given columns with the mean value of \n",
    "    the column and returns the dataframe.\n",
    "    Input: \n",
    "        df (dataframe): Dataframe containing the columns to be updated.\n",
    "        lst (list): List of numeric columns to be updated\n",
    "    Returns:\n",
    "        dataframe: Dataframe with imputed values and no dummy variables\n",
    "    '''\n",
    "    for column in lst:\n",
    "        mean_val = df[column].mean()\n",
    "        df[column].fillna(mean_val, inplace=True)\n",
    "    return df"
   ]
  },
  {
   "cell_type": "code",
   "execution_count": 38,
   "id": "25a2be14",
   "metadata": {
    "lines_to_next_cell": 1
   },
   "outputs": [
    {
     "name": "stdout",
     "output_type": "stream",
     "text": [
      "<class 'pandas.core.frame.DataFrame'>\n",
      "RangeIndex: 3818 entries, 0 to 3817\n",
      "Columns: 277 entries, host_response_rate to days_since_last_review_201+\n",
      "dtypes: bool(8), float32(7), float64(9), int64(7), object(10), uint8(236)\n",
      "memory usage: 1.7+ MB\n"
     ]
    }
   ],
   "source": [
    "lstNumColumns2 = [\n",
    "    \"review_scores_rating\", \"review_scores_accuracy\",\n",
    "    \"review_scores_cleanliness\", \"review_scores_checkin\",\n",
    "    \"review_scores_communication\", \"review_scores_location\",\n",
    "    \"review_scores_value\"\n",
    "]\n",
    "# Call the function\n",
    "ldf11 = impute_missing_review_scores(ldf10, lstNumColumns2)\n",
    "ldf11.info()"
   ]
  },
  {
   "cell_type": "code",
   "execution_count": 39,
   "id": "7f81e824",
   "metadata": {},
   "outputs": [
    {
     "name": "stdout",
     "output_type": "stream",
     "text": [
      "Before imputing : Mean Review Scores values\n"
     ]
    },
    {
     "data": {
      "text/plain": [
       "review_scores_rating           94.539262\n",
       "review_scores_accuracy          9.636392\n",
       "review_scores_cleanliness       9.556398\n",
       "review_scores_checkin           9.786709\n",
       "review_scores_communication     9.809599\n",
       "review_scores_location          9.608916\n",
       "review_scores_value             9.452245\n",
       "dtype: float64"
      ]
     },
     "execution_count": 39,
     "metadata": {},
     "output_type": "execute_result"
    }
   ],
   "source": [
    "print(\"Before imputing : Mean Review Scores values\")\n",
    "ldf10[lstNumColumns2].mean()"
   ]
  },
  {
   "cell_type": "code",
   "execution_count": 40,
   "id": "7cdd35f1",
   "metadata": {},
   "outputs": [
    {
     "name": "stdout",
     "output_type": "stream",
     "text": [
      "After imputing : Mean Review Scores values\n"
     ]
    },
    {
     "data": {
      "text/plain": [
       "review_scores_rating           94.539262\n",
       "review_scores_accuracy          9.636392\n",
       "review_scores_cleanliness       9.556398\n",
       "review_scores_checkin           9.786709\n",
       "review_scores_communication     9.809599\n",
       "review_scores_location          9.608916\n",
       "review_scores_value             9.452245\n",
       "dtype: float64"
      ]
     },
     "execution_count": 40,
     "metadata": {},
     "output_type": "execute_result"
    }
   ],
   "source": [
    "print(\"After imputing : Mean Review Scores values\")\n",
    "ldf11[lstNumColumns2].mean()"
   ]
  },
  {
   "cell_type": "markdown",
   "id": "976a5c3b",
   "metadata": {},
   "source": [
    "### Looking at the before and after average of review score columns, there is no difference so it worked."
   ]
  },
  {
   "cell_type": "code",
   "execution_count": 41,
   "id": "312af446",
   "metadata": {},
   "outputs": [
    {
     "name": "stdout",
     "output_type": "stream",
     "text": [
      "The number of variables increased to : 277\n"
     ]
    }
   ],
   "source": [
    "print(\"The number of variables increased to :\", ldf11.shape[1])"
   ]
  },
  {
   "cell_type": "markdown",
   "id": "ead7ada6",
   "metadata": {},
   "source": [
    "### Column 'security_deposit' has 51% missing and 'cleaning_fee' has 27% missing value. We can assume missing values in them, to mean that those fees don't apply to a listing and set them to 0."
   ]
  },
  {
   "cell_type": "code",
   "execution_count": 42,
   "id": "4a6cf8bd",
   "metadata": {},
   "outputs": [],
   "source": [
    "def replace_missing_fees(df, lst):\n",
    "    '''\n",
    "    This function will replace missing values in the given columns with the mean value \n",
    "    of the column.\n",
    "    Input:\n",
    "    df - dataframe\n",
    "    lst - list of numeric columns to be updated\n",
    "    Returns:\n",
    "    df - dataframe with missing values replaced with the mean value of the column\n",
    "    '''\n",
    "    for column in lst:\n",
    "        df[column].replace('', 0, inplace=True)\n",
    "        df[column].fillna(0, inplace=True)\n",
    "    return df"
   ]
  },
  {
   "cell_type": "code",
   "execution_count": 43,
   "id": "32ff3221",
   "metadata": {},
   "outputs": [
    {
     "name": "stdout",
     "output_type": "stream",
     "text": [
      "<class 'pandas.core.frame.DataFrame'>\n",
      "RangeIndex: 3818 entries, 0 to 3817\n",
      "Columns: 277 entries, host_response_rate to days_since_last_review_201+\n",
      "dtypes: bool(8), float32(7), float64(9), int64(7), object(10), uint8(236)\n",
      "memory usage: 1.7+ MB\n"
     ]
    }
   ],
   "source": [
    "lstNumColumns3 = ['security_deposit', 'cleaning_fee']\n",
    "ldf12 = replace_missing_fees(ldf11, lstNumColumns3)\n",
    "ldf12.info()"
   ]
  },
  {
   "cell_type": "markdown",
   "id": "78541b5c",
   "metadata": {},
   "source": [
    "### Most the values in 'weekly_price' are not poulated. We can assume if they are missing, then weekly_price can be calculated as 7\\*daily price for a week so that we can find out if this factor has any effect on the models."
   ]
  },
  {
   "cell_type": "code",
   "execution_count": 44,
   "id": "a306ed86",
   "metadata": {},
   "outputs": [],
   "source": [
    "def replace_missing_weekly_price(df):\n",
    "    '''\n",
    "    This function takes a dataframe as input and sets weekly_price to price*7 if it's \n",
    "    missing or blank.\n",
    "    Input:\n",
    "    - df: dataframe\n",
    "    Returns:\n",
    "    - dataframe with weekly_price column filled with price*7 for missing or blank values.\n",
    "    '''\n",
    "    df[\"weekly_price\"].fillna(df[\"price\"] * 7, inplace=True)\n",
    "    df[\"weekly_price\"].replace('', np.nan, inplace=True)\n",
    "    df[\"weekly_price\"].fillna(df[\"price\"] * 7, inplace=True)\n",
    "    return df"
   ]
  },
  {
   "cell_type": "code",
   "execution_count": 45,
   "id": "3ad4bf52",
   "metadata": {},
   "outputs": [
    {
     "name": "stdout",
     "output_type": "stream",
     "text": [
      "<class 'pandas.core.frame.DataFrame'>\n",
      "RangeIndex: 3818 entries, 0 to 3817\n",
      "Columns: 277 entries, host_response_rate to days_since_last_review_201+\n",
      "dtypes: bool(8), float32(7), float64(9), int64(7), object(10), uint8(236)\n",
      "memory usage: 1.7+ MB\n"
     ]
    }
   ],
   "source": [
    "ldf13 = replace_missing_weekly_price(ldf12)\n",
    "ldf13.info()"
   ]
  },
  {
   "cell_type": "markdown",
   "id": "af85b242",
   "metadata": {},
   "source": [
    "### Most the values in 'monthly_price' are not poulated. We can assume if they are missing, then monthly_price can be calculated to daily price times 30 for a month so that we can find out if this factor has any effect on the models."
   ]
  },
  {
   "cell_type": "code",
   "execution_count": 46,
   "id": "39ca3822",
   "metadata": {},
   "outputs": [],
   "source": [
    "def replace_missing_monthly_price(df):\n",
    "    '''\n",
    "    This function takes a dataframe as input and if monthly_price is missing or blank, it sets it to weekly_price*4:\n",
    "    Input: \n",
    "        df: Dataframe, input dataframe\n",
    "    Returns: \n",
    "        df: Dataframe, dataframe with missing monthly_price imputed with weekly_price*4\n",
    "    '''\n",
    "    df[\"monthly_price\"].fillna(df[\"price\"] * 30, inplace=True)\n",
    "    df[\"monthly_price\"].replace('', np.nan, inplace=True)\n",
    "    df[\"monthly_price\"].fillna(df[\"price\"] * 30, inplace=True)\n",
    "    return df"
   ]
  },
  {
   "cell_type": "code",
   "execution_count": 47,
   "id": "448d8a22",
   "metadata": {},
   "outputs": [
    {
     "name": "stdout",
     "output_type": "stream",
     "text": [
      "<class 'pandas.core.frame.DataFrame'>\n",
      "RangeIndex: 3818 entries, 0 to 3817\n",
      "Columns: 277 entries, host_response_rate to days_since_last_review_201+\n",
      "dtypes: bool(8), float32(7), float64(9), int64(7), object(10), uint8(236)\n",
      "memory usage: 1.7+ MB\n"
     ]
    }
   ],
   "source": [
    "ldf14 = replace_missing_monthly_price(ldf13)\n",
    "ldf14.info()"
   ]
  },
  {
   "cell_type": "markdown",
   "id": "d8763140",
   "metadata": {},
   "source": [
    "### Let's save the results to a csv file."
   ]
  },
  {
   "cell_type": "code",
   "execution_count": 48,
   "id": "a3dd1999",
   "metadata": {},
   "outputs": [],
   "source": [
    "ldf14.to_csv('newLDF14.csv', encoding='utf-8')"
   ]
  },
  {
   "cell_type": "code",
   "execution_count": 49,
   "id": "6301afb5",
   "metadata": {},
   "outputs": [
    {
     "name": "stdout",
     "output_type": "stream",
     "text": [
      "At this point, the prepared dataset has 277  columns and  3818 rows.\n"
     ]
    }
   ],
   "source": [
    "print(\"At this point, the prepared dataset has\", ldf14.shape[1],\n",
    "      \" columns and \", ldf14.shape[0], \"rows.\")"
   ]
  },
  {
   "cell_type": "markdown",
   "id": "477dcef2",
   "metadata": {},
   "source": [
    "### Report missing values after preprocessing and clean up of the listings data:"
   ]
  },
  {
   "cell_type": "code",
   "execution_count": 50,
   "id": "6b627d2c",
   "metadata": {},
   "outputs": [
    {
     "name": "stdout",
     "output_type": "stream",
     "text": [
      "Your selected dataframe has 277 columns.\n",
      "There are 5 columns that have missing values.\n",
      "\n",
      "  AFTER PREPREOCESSING \n",
      "                           DataTypes  Missing Values  % of Total Values\n",
      "host_is_superhost            object               2                0.1\n",
      "host_listings_count         float64               2                0.1\n",
      "host_total_listings_count   float64               2                0.1\n",
      "host_has_profile_pic         object               2                0.1\n",
      "host_identity_verified       object               2                0.1\n"
     ]
    },
    {
     "data": {
      "image/png": "[encoded data removed]",
      "text/plain": [
       "<Figure size 640x480 with 1 Axes>"
      ]
     },
     "metadata": {},
     "output_type": "display_data"
    }
   ],
   "source": [
    "missing_values = create_missing_values_table(ldf14)\n",
    "missing_values[\"% of Total Values\"].plot(\n",
    "    kind='bar', title='Missing Values % after preprocessing/Clean up')\n",
    "print(\"\\n  AFTER PREPREOCESSING \\n\", missing_values)"
   ]
  },
  {
   "cell_type": "markdown",
   "id": "2b684fa5",
   "metadata": {},
   "source": [
    "### As we see above, since there are only 5 variables with 2 rows, let's drop rows with missing values "
   ]
  },
  {
   "cell_type": "code",
   "execution_count": 51,
   "id": "4b7236a1",
   "metadata": {
    "scrolled": true
   },
   "outputs": [
    {
     "name": "stdout",
     "output_type": "stream",
     "text": [
      "<class 'pandas.core.frame.DataFrame'>\n",
      "Int64Index: 3816 entries, 0 to 3817\n",
      "Columns: 277 entries, host_response_rate to days_since_last_review_201+\n",
      "dtypes: bool(8), float32(7), float64(9), int64(7), object(10), uint8(236)\n",
      "memory usage: 1.8+ MB\n"
     ]
    }
   ],
   "source": [
    "ldf15 = ldf14.dropna(inplace=False, axis=0)\n",
    "ldf15.info()"
   ]
  },
  {
   "cell_type": "markdown",
   "id": "c3a85b77",
   "metadata": {},
   "source": [
    "### Let's run final missing values report."
   ]
  },
  {
   "cell_type": "code",
   "execution_count": 52,
   "id": "7cffd1ad",
   "metadata": {},
   "outputs": [
    {
     "name": "stdout",
     "output_type": "stream",
     "text": [
      "Your selected dataframe has 277 columns.\n",
      "There are 0 columns that have missing values.\n"
     ]
    }
   ],
   "source": [
    "missing_values = create_missing_values_table(ldf15)"
   ]
  },
  {
   "cell_type": "markdown",
   "id": "524d62ff",
   "metadata": {
    "lines_to_next_cell": 1
   },
   "source": [
    "## 4. Modeling \n",
    "####   Now that we have completed data preprocessing, we will select models for each the business question. To find factors that determine price, which is a numerical response variable, we will consider two regression models, \n",
    "- Linear Regression with recursive approach to find the best variables for the model,\n",
    "- LassoCV that will eliminate variables and also perform five-fold cross-validation. We will evaluate model performance by using the list of variables suggested by these 2 models and run  Linear Regression.\n",
    "    \n",
    "### Q1. What were the important factors that determined price per night? How much do they contribute to the predicting daily price?\n",
    "#### We will use Linear Regression to find factors that can predict daily price below."
   ]
  },
  {
   "cell_type": "code",
   "execution_count": 53,
   "id": "ca35686b",
   "metadata": {
    "lines_to_next_cell": 1
   },
   "outputs": [],
   "source": [
    "from sklearn.feature_selection import RFE\n",
    "from sklearn.linear_model import LinearRegression\n",
    "\n",
    "\n",
    "def select_important_columns(df, responseCol=\"\", featureKnt=10):\n",
    "    '''\n",
    "    This function uses feature importance from Linear Regressor to identify the top n columns that are most important for \n",
    "    predicting the given response variable. It returns a list of the column names corresponding to the selected columns.\n",
    "    Input:\n",
    "        df (pandas dataframe): Dataframe on which to run the LinearRegression model\n",
    "        responseCol (str): Response variable in the input dataframe\n",
    "        featureKnt (int): Maximum number of features to return as predictors\n",
    "    Returns:\n",
    "        list: List of column names corresponding to the selected columns\n",
    "    '''\n",
    "\n",
    "    X = df.drop(responseCol, axis=1)\n",
    "    y = df[responseCol]\n",
    "    model = LinearRegression()\n",
    "    rfe = RFE(model, n_features_to_select=featureKnt)\n",
    "    rfe.fit(X, y)\n",
    "    return X.columns[rfe.support_]"
   ]
  },
  {
   "cell_type": "code",
   "execution_count": 54,
   "id": "27be3bf3",
   "metadata": {
    "lines_to_next_cell": 1
   },
   "outputs": [],
   "source": [
    "def keep_numeric_columns(df):\n",
    "    \"\"\"\n",
    "    Function to keep only numeric columns in a given dataframe for regression analysis\n",
    "    Input:\n",
    "        df (pandas dataframe): the input dataframe from which to keep numeric variables\n",
    "    Returns:\n",
    "        df (pandas dataframe): the output dataframe which only contains numeric variables\n",
    "    \"\"\"\n",
    "    numeric_columns = df.select_dtypes(include=[np.number]).columns.tolist()\n",
    "    return df[numeric_columns]"
   ]
  },
  {
   "cell_type": "markdown",
   "id": "6c295d2d",
   "metadata": {},
   "source": [
    "### Let's find out how many numeric variables are there in the preprocessed listings dataset."
   ]
  },
  {
   "cell_type": "code",
   "execution_count": 55,
   "id": "92fdc24c",
   "metadata": {},
   "outputs": [
    {
     "name": "stdout",
     "output_type": "stream",
     "text": [
      "Number of Numeric columns in the preprocessed listings dataset =  259\n"
     ]
    }
   ],
   "source": [
    "numeric_columns = ldf15.select_dtypes(include=[np.number]).columns.tolist()\n",
    "print(\"Number of Numeric columns in the preprocessed listings dataset = \",\n",
    "      len(numeric_columns))"
   ]
  },
  {
   "cell_type": "markdown",
   "id": "99e66888",
   "metadata": {},
   "source": [
    "### Keep only numeric variables in a dataframe used for regression analysis."
   ]
  },
  {
   "cell_type": "code",
   "execution_count": 56,
   "id": "16cd7fbe",
   "metadata": {},
   "outputs": [
    {
     "name": "stdout",
     "output_type": "stream",
     "text": [
      "<class 'pandas.core.frame.DataFrame'>\n",
      "Int64Index: 3816 entries, 0 to 3817\n",
      "Columns: 277 entries, host_response_rate to days_since_last_review_201+\n",
      "dtypes: bool(8), float32(7), float64(9), int64(7), object(10), uint8(236)\n",
      "memory usage: 1.8+ MB\n",
      "-------After dropping nonnumeric columns:------\n",
      "<class 'pandas.core.frame.DataFrame'>\n",
      "Int64Index: 3816 entries, 0 to 3817\n",
      "Columns: 259 entries, host_response_rate to days_since_last_review_201+\n",
      "dtypes: float32(7), float64(9), int64(7), uint8(236)\n",
      "memory usage: 1.5 MB\n"
     ]
    }
   ],
   "source": [
    "ldf15.info()\n",
    "\n",
    "ldf16 = keep_numeric_columns(ldf15)\n",
    "## dropped require_guest_profile_picture_f since in the regression both *picture_t and *_picture_f showed up\n",
    "print(\"-------After dropping nonnumeric columns:------\")\n",
    "ldf16.info()"
   ]
  },
  {
   "cell_type": "markdown",
   "id": "88e4cfae",
   "metadata": {},
   "source": [
    "# Now let's run the Linear Regression and see what are the 30 important predictors for the price."
   ]
  },
  {
   "cell_type": "code",
   "execution_count": 57,
   "id": "37b58999",
   "metadata": {},
   "outputs": [
    {
     "name": "stdout",
     "output_type": "stream",
     "text": [
      "Your selected dataframe has 259 columns.\n",
      "There are 0 columns that have missing values.\n"
     ]
    }
   ],
   "source": [
    "missing_values = create_missing_values_table(ldf16)"
   ]
  },
  {
   "cell_type": "code",
   "execution_count": 58,
   "id": "1551d802",
   "metadata": {
    "lines_to_next_cell": 2
   },
   "outputs": [],
   "source": [
    "numPredictors = 30\n",
    "importantPredictors = select_important_columns(ldf16, \"price\", numPredictors)"
   ]
  },
  {
   "cell_type": "code",
   "execution_count": 59,
   "id": "59496525",
   "metadata": {},
   "outputs": [
    {
     "name": "stdout",
     "output_type": "stream",
     "text": [
      "Top  30  Important Predictors of Price are:\n",
      " ['accommodates_16', 'beds_10.0', 'beds_15.0', 'bed_type_Airbed', 'bed_type_Couch', 'bed_type_Futon', 'bed_type_Pull-out Sofa', 'bed_type_Real Bed', 'guests_included_13', 'extra_people_5.0', 'extra_people_6.0', 'extra_people_7.0', 'extra_people_8.0', 'extra_people_9.0', 'extra_people_10.0', 'extra_people_12.0', 'extra_people_13.0', 'extra_people_19.0', 'extra_people_21.0', 'extra_people_27.0', 'extra_people_28.0', 'extra_people_33.0', 'extra_people_36.0', 'extra_people_44.0', 'extra_people_48.0', 'extra_people_55.0', 'extra_people_68.0', 'extra_people_85.0', 'extra_people_175.0', 'extra_people_300.0']\n"
     ]
    }
   ],
   "source": [
    "print(\"Top \", numPredictors, \" Important Predictors of Price are:\\n\",\n",
    "      list(importantPredictors))"
   ]
  },
  {
   "cell_type": "markdown",
   "id": "64a487d5",
   "metadata": {},
   "source": [
    "## Let's use these predictors to get model details by running Linear Regression:"
   ]
  },
  {
   "cell_type": "code",
   "execution_count": 60,
   "id": "279f1b6d",
   "metadata": {},
   "outputs": [
    {
     "name": "stdout",
     "output_type": "stream",
     "text": [
      "                            OLS Regression Results                            \n",
      "==============================================================================\n",
      "Dep. Variable:                  price   R-squared:                       0.053\n",
      "Model:                            OLS   Adj. R-squared:                  0.046\n",
      "Method:                 Least Squares   F-statistic:                     7.833\n",
      "Date:                Wed, 25 Jan 2023   Prob (F-statistic):           1.44e-29\n",
      "Time:                        21:54:20   Log-Likelihood:                -22492.\n",
      "No. Observations:                3816   AIC:                         4.504e+04\n",
      "Df Residuals:                    3788   BIC:                         4.522e+04\n",
      "Df Model:                          27                                         \n",
      "Covariance Type:            nonrobust                                         \n",
      "==========================================================================================\n",
      "                             coef    std err          t      P>|t|      [0.025      0.975]\n",
      "------------------------------------------------------------------------------------------\n",
      "const                  -2.198e+14   1.51e+14     -1.458      0.145   -5.15e+14    7.57e+13\n",
      "accommodates_16         -2.87e+11   1.97e+11     -1.458      0.145   -6.73e+11    9.88e+10\n",
      "beds_10.0                2.87e+11   1.97e+11      1.458      0.145   -9.88e+10    6.73e+11\n",
      "beds_15.0                2.87e+11   1.97e+11      1.458      0.145   -9.88e+10    6.73e+11\n",
      "bed_type_Airbed         2.198e+14   1.51e+14      1.458      0.145   -7.57e+13    5.15e+14\n",
      "bed_type_Couch          2.198e+14   1.51e+14      1.458      0.145   -7.57e+13    5.15e+14\n",
      "bed_type_Futon          2.198e+14   1.51e+14      1.458      0.145   -7.57e+13    5.15e+14\n",
      "bed_type_Pull-out Sofa  2.198e+14   1.51e+14      1.458      0.145   -7.57e+13    5.15e+14\n",
      "bed_type_Real Bed       2.198e+14   1.51e+14      1.458      0.145   -7.57e+13    5.15e+14\n",
      "guests_included_13      7.556e+11   5.18e+11      1.458      0.145    -2.6e+11    1.77e+12\n",
      "extra_people_5.0         -50.5507     11.707     -4.318      0.000     -73.503     -27.598\n",
      "extra_people_6.0         -73.1439     44.100     -1.659      0.097    -159.605      13.317\n",
      "extra_people_7.0         -59.8666     25.536     -2.344      0.019    -109.932      -9.801\n",
      "extra_people_8.0         -37.7875     31.221     -1.210      0.226     -98.999      23.424\n",
      "extra_people_9.0         -49.2884     39.450     -1.249      0.212    -126.634      28.057\n",
      "extra_people_10.0        -35.9610      4.924     -7.303      0.000     -45.615     -26.307\n",
      "extra_people_12.0        -34.0145     31.202     -1.090      0.276     -95.190      27.161\n",
      "extra_people_13.0        -45.8886     88.158     -0.521      0.603    -218.731     126.954\n",
      "extra_people_19.0        -53.9758     39.524     -1.366      0.172    -131.466      23.514\n",
      "extra_people_21.0       -105.8892     88.158     -1.201      0.230    -278.731      66.953\n",
      "extra_people_27.0        -50.8886     88.158     -0.577      0.564    -223.731     121.954\n",
      "extra_people_28.0        -59.2229     50.914     -1.163      0.245    -159.044      40.599\n",
      "extra_people_33.0       -106.8891     88.158     -1.212      0.225    -279.731      65.953\n",
      "extra_people_36.0        -58.8888     88.158     -0.668      0.504    -231.731     113.953\n",
      "extra_people_44.0        -96.8887     88.158     -1.099      0.272    -269.731      75.953\n",
      "extra_people_48.0        -58.8887     88.158     -0.668      0.504    -231.731     113.954\n",
      "extra_people_55.0        -64.1152     51.225     -1.252      0.211    -164.546      36.315\n",
      "extra_people_68.0      -4.686e+11   3.21e+11     -1.458      0.145    -1.1e+12    1.61e+11\n",
      "extra_people_85.0        -49.8888     88.158     -0.566      0.571    -222.731     122.953\n",
      "extra_people_175.0       -35.8885     88.158     -0.407      0.684    -208.731     136.954\n",
      "extra_people_300.0       -39.4298     63.571     -0.620      0.535    -164.066      85.206\n",
      "==============================================================================\n",
      "Omnibus:                     2719.729   Durbin-Watson:                   1.839\n",
      "Prob(Omnibus):                  0.000   Jarque-Bera (JB):            56905.462\n",
      "Skew:                           3.167   Prob(JB):                         0.00\n",
      "Kurtosis:                      20.826   Cond. No.                     3.37e+16\n",
      "==============================================================================\n",
      "\n",
      "Notes:\n",
      "[1] Standard Errors assume that the covariance matrix of the errors is correctly specified.\n",
      "[2] The smallest eigenvalue is 6.53e-30. This might indicate that there are\n",
      "strong multicollinearity problems or that the design matrix is singular.\n"
     ]
    }
   ],
   "source": [
    "import statsmodels.api as sm\n",
    "\n",
    "#define predictor variables\n",
    "X = ldf16[importantPredictors]\n",
    "\n",
    "#define response variable\n",
    "y = ldf16[\"price\"]\n",
    "\n",
    "#add constant to predictor variables\n",
    "X = sm.add_constant(X)\n",
    "\n",
    "#fit linear regression model\n",
    "model1 = sm.OLS(y, X).fit()\n",
    "\n",
    "#view model summary\n",
    "print(model1.summary())\n",
    "\n",
    "## reference https://www.statology.org/sklearn-linear-regression-summary/"
   ]
  },
  {
   "cell_type": "code",
   "execution_count": 61,
   "id": "0f6826ba",
   "metadata": {},
   "outputs": [
    {
     "data": {
      "text/plain": [
       "bed_type_Real Bed         2.198220e+14\n",
       "bed_type_Airbed           2.198220e+14\n",
       "bed_type_Futon            2.198220e+14\n",
       "bed_type_Couch            2.198220e+14\n",
       "bed_type_Pull-out Sofa    2.198220e+14\n",
       "guests_included_13        7.555973e+11\n",
       "beds_15.0                 2.870070e+11\n",
       "beds_10.0                 2.870070e+11\n",
       "extra_people_12.0        -3.401453e+01\n",
       "extra_people_175.0       -3.588854e+01\n",
       "extra_people_10.0        -3.596101e+01\n",
       "extra_people_8.0         -3.778746e+01\n",
       "extra_people_300.0       -3.942980e+01\n",
       "extra_people_13.0        -4.588863e+01\n",
       "extra_people_9.0         -4.928842e+01\n",
       "extra_people_85.0        -4.988885e+01\n",
       "extra_people_5.0         -5.055067e+01\n",
       "extra_people_27.0        -5.088862e+01\n",
       "extra_people_19.0        -5.397577e+01\n",
       "extra_people_48.0        -5.888866e+01\n",
       "extra_people_36.0        -5.888875e+01\n",
       "extra_people_28.0        -5.922289e+01\n",
       "extra_people_7.0         -5.986663e+01\n",
       "extra_people_55.0        -6.411522e+01\n",
       "extra_people_6.0         -7.314388e+01\n",
       "extra_people_44.0        -9.688874e+01\n",
       "extra_people_21.0        -1.058892e+02\n",
       "extra_people_33.0        -1.068891e+02\n",
       "accommodates_16          -2.870070e+11\n",
       "dtype: float64"
      ]
     },
     "execution_count": 61,
     "metadata": {},
     "output_type": "execute_result"
    }
   ],
   "source": [
    "# Sort the predictors by descending value of the coefficient\n",
    "sorted_predictors1 = model1.params.sort_values(ascending=False)\n",
    "\n",
    "# Print the sorted predictors\n",
    "sorted_predictors1.head(29)"
   ]
  },
  {
   "cell_type": "markdown",
   "id": "09cabb57",
   "metadata": {},
   "source": [
    "### Above model summary shows R-squared of 0.213 close to Adj. R-squared of 0.208 indicating number of predictors does not penalize the model. The notes also indicate strong multicollinearity problems with the data. "
   ]
  },
  {
   "cell_type": "markdown",
   "id": "ab440b4b",
   "metadata": {
    "lines_to_next_cell": 1
   },
   "source": [
    "## Let's try another model, Lasso Regression with Cross Validation. Lasso Regession is used when number of predictors is high. Cross validation will rotate the data in the train and test sets by splitting it first. First define a function:"
   ]
  },
  {
   "cell_type": "code",
   "execution_count": 62,
   "id": "28ca7ccd",
   "metadata": {
    "lines_to_next_cell": 1
   },
   "outputs": [],
   "source": [
    "from sklearn.pipeline import Pipeline\n",
    "from sklearn.linear_model import LassoCV\n",
    "from sklearn.preprocessing import StandardScaler\n",
    "\n",
    "\n",
    "def select_predictors_LassoCV(data, response):\n",
    "    '''\n",
    "    This function first removes the response variable from the list of predictors, then creates the feature matrix X and\n",
    "    target variable y. It then initializes the LassoCV model with 5-fold cross-validation and normalization. It then fits\n",
    "    the model to the data and gets the indices of the non-zero coefficients. Finally, the function returns a list of the\n",
    "    predictors with non-zero coefficients.\n",
    "    inputs \n",
    "        data = dataframe on which to run the model\n",
    "        response = response variable\n",
    "    returns\n",
    "        list of nonzero_predictors        \n",
    "    '''\n",
    "    predictors = data.columns.tolist()\n",
    "    predictors.remove(response)\n",
    "    X = data[predictors]\n",
    "    y = data[response]\n",
    "\n",
    "    # Initialize the pipeline\n",
    "    pipeline = Pipeline([('scaler', StandardScaler()),\n",
    "                         ('lasso', LassoCV(cv=5, precompute=False))])\n",
    "\n",
    "    # Fit the pipeline to the data\n",
    "    pipeline.fit(X, y)\n",
    "\n",
    "    # Get the indices of the non-zero coefficients\n",
    "    nonzero_coef_indices = np.nonzero(pipeline.named_steps['lasso'].coef_)[0]\n",
    "\n",
    "    # Get the names of the predictors with non-zero coefficients\n",
    "    nonzero_predictors = [predictors[i] for i in nonzero_coef_indices]\n",
    "\n",
    "    return nonzero_predictors"
   ]
  },
  {
   "cell_type": "markdown",
   "id": "cdc30b85",
   "metadata": {},
   "source": [
    "### Lets' call the function above that runs LassoCV."
   ]
  },
  {
   "cell_type": "code",
   "execution_count": 63,
   "id": "e3e89dbc",
   "metadata": {},
   "outputs": [
    {
     "name": "stdout",
     "output_type": "stream",
     "text": [
      "Important Predictors by Lasso Cross Validation:\n",
      " ['host_response_rate', 'host_listings_count', 'host_total_listings_count', 'weekly_price', 'monthly_price', 'security_deposit', 'cleaning_fee', 'maximum_nights', 'availability_30', 'availability_365', 'host_response_time_a few days or more', 'host_response_time_within an hour', 'room_type_Entire home/apt', 'room_type_Shared room', 'accommodates_5', 'accommodates_7', 'accommodates_8', 'accommodates_10', 'accommodates_15', 'bathrooms_1.0', 'bathrooms_2.5', 'bathrooms_3.0', 'bathrooms_3.5', 'bathrooms_4.0', 'bedrooms_1.0', 'bedrooms_3.0', 'bedrooms_4.0', 'bedrooms_5.0', 'bedrooms_6.0', 'beds_1.0', 'beds_4.0', 'beds_5.0', 'beds_9.0', 'guests_included_4', 'guests_included_5', 'guests_included_11', 'guests_included_13', 'extra_people_10.0', 'extra_people_30.0', 'extra_people_45.0', 'extra_people_68.0', 'extra_people_71.0', 'extra_people_80.0', 'extra_people_175.0', 'extra_people_250.0', 'calendar_updated_13 months ago', 'calendar_updated_4 months ago', 'calendar_updated_5 days ago', 'calendar_updated_6 months ago', 'calendar_updated_today', 'calendar_updated_yesterday', 'cancellation_policy_moderate', 'cancellation_policy_strict', 'number_of_reviews_1', 'number_of_reviews_5', 'reviews_per_month_0', 'reviews_per_month_4', 'reviews_per_month_5']\n"
     ]
    }
   ],
   "source": [
    "predictors_list = select_predictors_LassoCV(ldf16, \"price\")\n",
    "print(\"Important Predictors by Lasso Cross Validation:\\n\", predictors_list)"
   ]
  },
  {
   "cell_type": "code",
   "execution_count": 64,
   "id": "5dc261ec",
   "metadata": {},
   "outputs": [
    {
     "name": "stdout",
     "output_type": "stream",
     "text": [
      "Count of Important Predictors by Lasso Cross Validation:\n",
      " 58\n"
     ]
    }
   ],
   "source": [
    "print(\"Count of Important Predictors by Lasso Cross Validation:\\n\",\n",
    "      len(predictors_list))"
   ]
  },
  {
   "cell_type": "markdown",
   "id": "9957fdec",
   "metadata": {},
   "source": [
    "## Let's use these predictors to get model details by running Linear Regression:"
   ]
  },
  {
   "cell_type": "code",
   "execution_count": 65,
   "id": "69695df3",
   "metadata": {},
   "outputs": [
    {
     "name": "stdout",
     "output_type": "stream",
     "text": [
      "                            OLS Regression Results                            \n",
      "==============================================================================\n",
      "Dep. Variable:                  price   R-squared:                       0.953\n",
      "Model:                            OLS   Adj. R-squared:                  0.952\n",
      "Method:                 Least Squares   F-statistic:                     1361.\n",
      "Date:                Wed, 25 Jan 2023   Prob (F-statistic):               0.00\n",
      "Time:                        21:54:26   Log-Likelihood:                -16763.\n",
      "No. Observations:                3816   AIC:                         3.364e+04\n",
      "Df Residuals:                    3759   BIC:                         3.400e+04\n",
      "Df Model:                          56                                         \n",
      "Covariance Type:            nonrobust                                         \n",
      "=========================================================================================================\n",
      "                                            coef    std err          t      P>|t|      [0.025      0.975]\n",
      "---------------------------------------------------------------------------------------------------------\n",
      "const                                    17.1604      3.688      4.653      0.000       9.929      24.391\n",
      "host_response_rate                       -0.0561      0.035     -1.619      0.105      -0.124       0.012\n",
      "host_listings_count                      -0.0046      0.006     -0.755      0.451      -0.017       0.007\n",
      "host_total_listings_count                -0.0046      0.006     -0.755      0.451      -0.017       0.007\n",
      "weekly_price                              0.1196      0.002     62.272      0.000       0.116       0.123\n",
      "monthly_price                             0.0038      0.000      8.577      0.000       0.003       0.005\n",
      "security_deposit                          0.0048      0.002      3.046      0.002       0.002       0.008\n",
      "cleaning_fee                              0.0014      0.010      0.135      0.892      -0.018       0.021\n",
      "maximum_nights                           -0.0010      0.000     -5.169      0.000      -0.001      -0.001\n",
      "availability_30                          -0.0782      0.031     -2.493      0.013      -0.140      -0.017\n",
      "availability_365                          0.0095      0.003      3.184      0.001       0.004       0.015\n",
      "host_response_time_a few days or more     5.7844      3.808      1.519      0.129      -1.681      13.250\n",
      "host_response_time_within an hour        -1.4885      0.727     -2.047      0.041      -2.914      -0.063\n",
      "room_type_Entire home/apt                 3.2151      0.932      3.450      0.001       1.388       5.042\n",
      "room_type_Shared room                    -3.3211      1.970     -1.685      0.092      -7.184       0.542\n",
      "accommodates_5                            4.6582      1.597      2.916      0.004       1.527       7.790\n",
      "accommodates_7                           11.6486      2.970      3.922      0.000       5.826      17.471\n",
      "accommodates_8                            4.6830      2.346      1.996      0.046       0.084       9.282\n",
      "accommodates_10                          14.1348      4.270      3.311      0.001       5.764      22.506\n",
      "accommodates_15                        -194.6687     21.405     -9.095      0.000    -236.635    -152.702\n",
      "bathrooms_1.0                            -2.0754      0.949     -2.187      0.029      -3.936      -0.215\n",
      "bathrooms_2.5                             5.1600      2.040      2.530      0.011       1.161       9.159\n",
      "bathrooms_3.0                             2.7863      2.835      0.983      0.326      -2.772       8.345\n",
      "bathrooms_3.5                             5.8749      3.133      1.875      0.061      -0.268      12.018\n",
      "bathrooms_4.0                            26.5000      7.960      3.329      0.001      10.894      42.106\n",
      "bedrooms_1.0                             -0.7405      0.933     -0.793      0.428      -2.570       1.089\n",
      "bedrooms_3.0                              3.1274      1.665      1.879      0.060      -0.136       6.391\n",
      "bedrooms_4.0                              7.6558      3.238      2.364      0.018       1.307      14.005\n",
      "bedrooms_5.0                             11.2313      4.961      2.264      0.024       1.504      20.959\n",
      "bedrooms_6.0                             39.7776      9.974      3.988      0.000      20.223      59.332\n",
      "beds_1.0                                 -1.5865      0.863     -1.839      0.066      -3.278       0.105\n",
      "beds_4.0                                  3.9379      1.889      2.084      0.037       0.234       7.642\n",
      "beds_5.0                                  5.3022      2.805      1.890      0.059      -0.198      10.802\n",
      "beds_9.0                                  8.4011     15.189      0.553      0.580     -21.379      38.181\n",
      "guests_included_4                         3.6739      1.424      2.580      0.010       0.882       6.466\n",
      "guests_included_5                         6.7693      3.943      1.717      0.086      -0.961      14.500\n",
      "guests_included_11                      175.3421     32.693      5.363      0.000     111.243     239.441\n",
      "guests_included_13                       48.8731     12.549      3.895      0.000      24.269      73.477\n",
      "extra_people_10.0                        -1.9534      1.126     -1.734      0.083      -4.162       0.255\n",
      "extra_people_30.0                         5.0460      2.185      2.309      0.021       0.762       9.330\n",
      "extra_people_45.0                       -17.7700      6.322     -2.811      0.005     -30.165      -5.375\n",
      "extra_people_68.0                        48.8731     12.549      3.895      0.000      24.269      73.477\n",
      "extra_people_71.0                        49.1057     20.014      2.454      0.014       9.866      88.345\n",
      "extra_people_80.0                       -27.2869     11.434     -2.386      0.017     -49.704      -4.870\n",
      "extra_people_175.0                     -121.1017     19.985     -6.060      0.000    -160.284     -81.919\n",
      "extra_people_250.0                      -39.6622     19.956     -1.987      0.047     -78.788      -0.537\n",
      "calendar_updated_13 months ago           61.2339     14.247      4.298      0.000      33.302      89.166\n",
      "calendar_updated_4 months ago             2.3772      1.785      1.332      0.183      -1.123       5.877\n",
      "calendar_updated_5 days ago              -7.7600      1.786     -4.345      0.000     -11.261      -4.259\n",
      "calendar_updated_6 months ago            14.9182      3.724      4.006      0.000       7.617      22.219\n",
      "calendar_updated_today                   -3.0027      0.902     -3.330      0.001      -4.771      -1.235\n",
      "calendar_updated_yesterday               -2.3037      1.381     -1.668      0.095      -5.012       0.404\n",
      "cancellation_policy_moderate              0.8936      0.839      1.065      0.287      -0.752       2.539\n",
      "cancellation_policy_strict               -1.8681      0.908     -2.057      0.040      -3.649      -0.087\n",
      "number_of_reviews_1                       2.2078      0.864      2.554      0.011       0.513       3.902\n",
      "number_of_reviews_5                      -4.5460      1.975     -2.302      0.021      -8.418      -0.674\n",
      "reviews_per_month_0                       1.4033      0.773      1.816      0.069      -0.112       2.918\n",
      "reviews_per_month_4                      -3.2318      1.442     -2.241      0.025      -6.059      -0.405\n",
      "reviews_per_month_5                      -2.9052      1.868     -1.555      0.120      -6.568       0.757\n",
      "==============================================================================\n",
      "Omnibus:                     2321.659   Durbin-Watson:                   1.960\n",
      "Prob(Omnibus):                  0.000   Jarque-Bera (JB):            96267.658\n",
      "Skew:                           2.274   Prob(JB):                         0.00\n",
      "Kurtosis:                      27.182   Cond. No.                     1.23e+16\n",
      "==============================================================================\n",
      "\n",
      "Notes:\n",
      "[1] Standard Errors assume that the covariance matrix of the errors is correctly specified.\n",
      "[2] The smallest eigenvalue is 5.03e-22. This might indicate that there are\n",
      "strong multicollinearity problems or that the design matrix is singular.\n"
     ]
    }
   ],
   "source": [
    "## lets use these predictors to get the model details\n",
    "import statsmodels.api as sm\n",
    "\n",
    "#define predictor variables\n",
    "X = ldf16[predictors_list]\n",
    "\n",
    "#define response variable\n",
    "y = ldf16[\"price\"]\n",
    "\n",
    "#add constant to predictor variables\n",
    "X = sm.add_constant(X)\n",
    "\n",
    "#fit linear regression model\n",
    "model2 = sm.OLS(y, X).fit()\n",
    "\n",
    "#view model summary\n",
    "print(model2.summary())"
   ]
  },
  {
   "cell_type": "code",
   "execution_count": null,
   "id": "919526aa",
   "metadata": {},
   "outputs": [],
   "source": []
  },
  {
   "cell_type": "code",
   "execution_count": 66,
   "id": "66117f63",
   "metadata": {},
   "outputs": [],
   "source": [
    "# Sort the predictors by descending value of the coefficient\n",
    "sorted_predictors2 = model2.params.sort_values(ascending=False)"
   ]
  },
  {
   "cell_type": "code",
   "execution_count": 67,
   "id": "b9f26cc4",
   "metadata": {},
   "outputs": [
    {
     "data": {
      "text/plain": [
       "59"
      ]
     },
     "execution_count": 67,
     "metadata": {},
     "output_type": "execute_result"
    }
   ],
   "source": [
    "len(sorted_predictors2)"
   ]
  },
  {
   "cell_type": "markdown",
   "id": "e5636ee9",
   "metadata": {},
   "source": [
    "## 5. Evaluation\n",
    "### Which model best meets the business objectives?\n",
    "#### The LassoCV model explains the 95% of the variance for 60 variables predicting the price. Lasso regression is helpful in getting rid of variables when there are too many of them, in our case we had 350+. \n",
    "\n",
    "### Question\\#1. What were the important factors that determined price per night? How much do they contribute to the predicting daily price?\n",
    "\n",
    "#### The results from the LassoCV regression provides us with Predictors for daily rental price and their contribution below."
   ]
  },
  {
   "cell_type": "code",
   "execution_count": 68,
   "id": "9bd30bcb",
   "metadata": {},
   "outputs": [
    {
     "name": "stdout",
     "output_type": "stream",
     "text": [
      "Question#1a response: Predictors for daily rental price are:\n",
      "\n"
     ]
    },
    {
     "data": {
      "text/plain": [
       "guests_included_11                       175.342082\n",
       "calendar_updated_13 months ago            61.233930\n",
       "extra_people_71.0                         49.105739\n",
       "guests_included_13                        48.873078\n",
       "extra_people_68.0                         48.873078\n",
       "bedrooms_6.0                              39.777646\n",
       "bathrooms_4.0                             26.499968\n",
       "const                                     17.160415\n",
       "calendar_updated_6 months ago             14.918246\n",
       "accommodates_10                           14.134808\n",
       "accommodates_7                            11.648552\n",
       "bedrooms_5.0                              11.231294\n",
       "beds_9.0                                   8.401141\n",
       "bedrooms_4.0                               7.655836\n",
       "guests_included_5                          6.769336\n",
       "bathrooms_3.5                              5.874868\n",
       "host_response_time_a few days or more      5.784416\n",
       "beds_5.0                                   5.302150\n",
       "bathrooms_2.5                              5.159962\n",
       "extra_people_30.0                          5.046024\n",
       "accommodates_8                             4.683012\n",
       "accommodates_5                             4.658163\n",
       "beds_4.0                                   3.937885\n",
       "guests_included_4                          3.673931\n",
       "room_type_Entire home/apt                  3.215085\n",
       "bedrooms_3.0                               3.127443\n",
       "bathrooms_3.0                              2.786349\n",
       "calendar_updated_4 months ago              2.377177\n",
       "number_of_reviews_1                        2.207764\n",
       "reviews_per_month_0                        1.403253\n",
       "cancellation_policy_moderate               0.893584\n",
       "weekly_price                               0.119642\n",
       "availability_365                           0.009459\n",
       "security_deposit                           0.004824\n",
       "monthly_price                              0.003759\n",
       "cleaning_fee                               0.001352\n",
       "maximum_nights                            -0.000984\n",
       "host_total_listings_count                 -0.004594\n",
       "host_listings_count                       -0.004594\n",
       "host_response_rate                        -0.056091\n",
       "availability_30                           -0.078155\n",
       "bedrooms_1.0                              -0.740486\n",
       "host_response_time_within an hour         -1.488542\n",
       "beds_1.0                                  -1.586493\n",
       "cancellation_policy_strict                -1.868128\n",
       "extra_people_10.0                         -1.953371\n",
       "bathrooms_1.0                             -2.075399\n",
       "calendar_updated_yesterday                -2.303696\n",
       "reviews_per_month_5                       -2.905226\n",
       "calendar_updated_today                    -3.002720\n",
       "reviews_per_month_4                       -3.231830\n",
       "room_type_Shared room                     -3.321050\n",
       "number_of_reviews_5                       -4.546029\n",
       "calendar_updated_5 days ago               -7.759951\n",
       "extra_people_45.0                        -17.770027\n",
       "extra_people_80.0                        -27.286937\n",
       "extra_people_250.0                       -39.662241\n",
       "extra_people_175.0                      -121.101727\n",
       "accommodates_15                         -194.668701\n",
       "dtype: float64"
      ]
     },
     "execution_count": 68,
     "metadata": {},
     "output_type": "execute_result"
    }
   ],
   "source": [
    "# Print the sorted predictors\n",
    "print(\"Question#1a response: Predictors for daily rental price are:\\n\")\n",
    "sorted_predictors2.head(60)"
   ]
  },
  {
   "cell_type": "markdown",
   "id": "262af9dc",
   "metadata": {},
   "source": [
    "### Let's create a visualization by plotting the predictors for their contribution to predicting price."
   ]
  },
  {
   "cell_type": "code",
   "execution_count": 69,
   "id": "66f18796",
   "metadata": {},
   "outputs": [
    {
     "data": {
      "text/plain": [
       "<AxesSubplot: title={'center': 'Q1b: How much do predictors contribute to the predicting daily price?'}, xlabel='Predictors', ylabel='$ Contribution to the Price Prediction'>"
      ]
     },
     "execution_count": 69,
     "metadata": {},
     "output_type": "execute_result"
    },
    {
     "data": {
      "image/png": "[encoded data removed]",
      "text/plain": [
       "<Figure size 640x480 with 1 Axes>"
      ]
     },
     "metadata": {},
     "output_type": "display_data"
    }
   ],
   "source": [
    "sorted_predictors2.plot(\n",
    "    kind='bar',\n",
    "    title=\n",
    "    'Q1b: How much do predictors contribute to the predicting daily price?',\n",
    "    xlabel='Predictors',\n",
    "    ylabel=\"$ Contribution to the Price Prediction\")"
   ]
  },
  {
   "cell_type": "markdown",
   "id": "5f086bb4",
   "metadata": {},
   "source": [
    "### Above bar chart compares each predictor that contributes positively as well as negatively to the daily average rental price. As we can see from above chart, the number of bedrooms, beds, number of guests, lower extra people (or guest charges) contribute significantly to the price, whereas just one bed, one bedroom, or higher extra guest charges negatively affects the price.\n",
    "\n",
    "## -----------------------------------------------------------------------------------------------------------------------------"
   ]
  },
  {
   "cell_type": "markdown",
   "id": "6d760d4f",
   "metadata": {
    "lines_to_next_cell": 2
   },
   "source": [
    "### For question\\#2, we have to find the most popular neighourhoods in Seatle. This can be done simply by grouping the data by neighbourhood_group_cleansed column and counting the number of listings available for each combination. We can also create a visualization as bar chart."
   ]
  },
  {
   "cell_type": "code",
   "execution_count": 70,
   "id": "dc5b66b4",
   "metadata": {
    "lines_to_next_cell": 2
   },
   "outputs": [],
   "source": [
    "popular_neighourhoods = ldf0.groupby(\n",
    "    'neighbourhood_group_cleansed')['id'].count().sort_values(ascending=False)\n",
    "#popular_neighourhoods.head(10)"
   ]
  },
  {
   "cell_type": "code",
   "execution_count": 71,
   "id": "7453aac0",
   "metadata": {},
   "outputs": [
    {
     "name": "stdout",
     "output_type": "stream",
     "text": [
      "Question#2 Seatle AirBnb Popular Neighourhoods by number of Listings\n",
      "\n"
     ]
    },
    {
     "data": {
      "text/plain": [
       "neighbourhood_group_cleansed\n",
       "Other neighborhoods    794\n",
       "Capitol Hill           567\n",
       "Downtown               530\n",
       "Central Area           369\n",
       "Queen Anne             295\n",
       "Ballard                230\n",
       "West Seattle           203\n",
       "Rainier Valley         159\n",
       "University District    122\n",
       "Beacon Hill            118\n",
       "Cascade                 89\n",
       "Northgate               80\n",
       "Delridge                79\n",
       "Lake City               67\n",
       "Magnolia                61\n",
       "Seward Park             44\n",
       "Interbay                11\n",
       "Name: id, dtype: int64"
      ]
     },
     "execution_count": 71,
     "metadata": {},
     "output_type": "execute_result"
    }
   ],
   "source": [
    "print(\"Question#2 Seatle AirBnb Popular Neighourhoods by number of Listings\\n\")\n",
    "popular_neighourhoods"
   ]
  },
  {
   "cell_type": "markdown",
   "id": "09ead245",
   "metadata": {},
   "source": [
    "### We can also create a visualization as bar chart."
   ]
  },
  {
   "cell_type": "code",
   "execution_count": 72,
   "id": "19a1f38a",
   "metadata": {
    "lines_to_next_cell": 2
   },
   "outputs": [
    {
     "data": {
      "text/plain": [
       "<AxesSubplot: title={'center': \"Question#2 Seatle AirBnb Popular Neighourhoods Jan'16 - Jan'17\"}, xlabel='Neighourhoods', ylabel='Number of Listings'>"
      ]
     },
     "execution_count": 72,
     "metadata": {},
     "output_type": "execute_result"
    },
    {
     "data": {
      "image/png": "[encoded data removed]",
      "text/plain": [
       "<Figure size 640x480 with 1 Axes>"
      ]
     },
     "metadata": {},
     "output_type": "display_data"
    }
   ],
   "source": [
    "popular_neighourhoods.plot(\n",
    "    kind='bar',\n",
    "    title=\"Question#2 Seatle AirBnb Popular Neighourhoods Jan'16 - Jan'17\",\n",
    "    ylabel='Number of Listings',\n",
    "    xlabel='Neighourhoods',\n",
    "    grid=False,\n",
    "    legend=False)"
   ]
  },
  {
   "cell_type": "markdown",
   "id": "b13fbfd5",
   "metadata": {},
   "source": [
    "### The chart above shows, for the city of Seattle, specifically Capitol Hill, Downtown, Central Area, Queen Anne, Ballard, and Other neighborhoods are the most popular. This is based on number of Airbnb listings in each of the cleansed neighbourhood group variable.\n",
    "\n",
    "\n",
    "# ============================================================\n",
    "# Now let's look at the second dataset, calendar.csv following CRISP-DM:"
   ]
  },
  {
   "cell_type": "markdown",
   "id": "fece8f75",
   "metadata": {},
   "source": [
    "## 2. Data Understanding\n",
    "### Collect initial data by reading the calendar.csv file and describe the data by printing summary info."
   ]
  },
  {
   "cell_type": "code",
   "execution_count": 73,
   "id": "5e32a9a8",
   "metadata": {},
   "outputs": [
    {
     "name": "stdout",
     "output_type": "stream",
     "text": [
      "<class 'pandas.core.frame.DataFrame'>\n",
      "RangeIndex: 1393570 entries, 0 to 1393569\n",
      "Data columns (total 4 columns):\n",
      " #   Column      Non-Null Count    Dtype \n",
      "---  ------      --------------    ----- \n",
      " 0   listing_id  1393570 non-null  int64 \n",
      " 1   date        1393570 non-null  object\n",
      " 2   available   1393570 non-null  object\n",
      " 3   price       934542 non-null   object\n",
      "dtypes: int64(1), object(3)\n",
      "memory usage: 42.5+ MB\n"
     ]
    }
   ],
   "source": [
    "caldf = pd.read_csv(\"./calendar.csv\")\n",
    "caldf.info()"
   ]
  },
  {
   "cell_type": "markdown",
   "id": "80307eef",
   "metadata": {},
   "source": [
    "### Data Exploration \n",
    "### As we see from above, number of variables is 4 but there are 1.3 million rows. First three columns have no missing values. Let's see % of missing values from for the price variable:"
   ]
  },
  {
   "cell_type": "code",
   "execution_count": 74,
   "id": "830aa363",
   "metadata": {},
   "outputs": [
    {
     "name": "stdout",
     "output_type": "stream",
     "text": [
      "Your selected dataframe has 4 columns.\n",
      "There are 1 columns that have missing values.\n",
      "Missing value from Calendar data\n",
      "       DataTypes  Missing Values  % of Total Values\n",
      "price    object          459028               32.9\n"
     ]
    }
   ],
   "source": [
    "missing_values = create_missing_values_table(caldf)\n",
    "print(\"Missing value from Calendar data\\n\", missing_values)"
   ]
  },
  {
   "cell_type": "markdown",
   "id": "0d252e48",
   "metadata": {},
   "source": [
    "## 3. Data Preparation"
   ]
  },
  {
   "cell_type": "markdown",
   "id": "f22f0915",
   "metadata": {},
   "source": [
    "### We are selecting the calendar data as provides the actual booking by the listing ad and the dates. It will help us answering questions 3 and 4. Let's clean the price column by removing non-numeric chars."
   ]
  },
  {
   "cell_type": "code",
   "execution_count": 75,
   "id": "da9a3e97",
   "metadata": {},
   "outputs": [
    {
     "name": "stderr",
     "output_type": "stream",
     "text": [
      "C:\\Users\\Admin\\AppData\\Local\\Temp\\ipykernel_10372\\3498671099.py:10: FutureWarning: The default value of regex will change from True to False in a future version.\n",
      "  df[col] = df[col].str.replace(r'[^\\d.]+', '')\n"
     ]
    },
    {
     "name": "stdout",
     "output_type": "stream",
     "text": [
      "<class 'pandas.core.frame.DataFrame'>\n",
      "RangeIndex: 1393570 entries, 0 to 1393569\n",
      "Data columns (total 4 columns):\n",
      " #   Column      Non-Null Count    Dtype  \n",
      "---  ------      --------------    -----  \n",
      " 0   listing_id  1393570 non-null  int64  \n",
      " 1   date        1393570 non-null  object \n",
      " 2   available   1393570 non-null  object \n",
      " 3   price       934542 non-null   float32\n",
      "dtypes: float32(1), int64(1), object(2)\n",
      "memory usage: 37.2+ MB\n"
     ]
    }
   ],
   "source": [
    "CalNumColumns = ['price']\n",
    "caldf1 = cleanNumbers(caldf, CalNumColumns)\n",
    "caldf1.info()"
   ]
  },
  {
   "cell_type": "markdown",
   "id": "aad4a413",
   "metadata": {},
   "source": [
    "### Let's report missing values on the original calendar dataset."
   ]
  },
  {
   "cell_type": "code",
   "execution_count": 76,
   "id": "a4e928ad",
   "metadata": {},
   "outputs": [
    {
     "name": "stdout",
     "output_type": "stream",
     "text": [
      "Your selected dataframe has 4 columns.\n",
      "There are 1 columns that have missing values.\n",
      "\n",
      "  BEFORE PREPREOCESSING \n",
      "       DataTypes  Missing Values  % of Total Values\n",
      "price   float32          459028               32.9\n"
     ]
    },
    {
     "data": {
      "image/png": "[encoded data removed]",
      "text/plain": [
       "<Figure size 640x480 with 1 Axes>"
      ]
     },
     "metadata": {},
     "output_type": "display_data"
    }
   ],
   "source": [
    "missing_values = create_missing_values_table(caldf1)\n",
    "missing_values[\"% of Total Values\"].plot(\n",
    "    kind='bar', title='Missing Values % before preprocessing / Clean up')\n",
    "print(\"\\n  BEFORE PREPREOCESSING \\n\", missing_values)"
   ]
  },
  {
   "cell_type": "markdown",
   "id": "19715749",
   "metadata": {},
   "source": [
    "### Even though 32% of the rows have missing price, we need not drop those rows since price is missing only when predictor available is False. Let's make a copy of the dataset."
   ]
  },
  {
   "cell_type": "code",
   "execution_count": 77,
   "id": "3b726881",
   "metadata": {},
   "outputs": [],
   "source": [
    "caldf2 = caldf1.copy()"
   ]
  },
  {
   "cell_type": "markdown",
   "id": "db8cdf43",
   "metadata": {},
   "source": [
    "### Create new caldate column with datatype datetime so we can create date-specific variables for later analysis; let's drop the original date column."
   ]
  },
  {
   "cell_type": "code",
   "execution_count": 78,
   "id": "c96d483e",
   "metadata": {},
   "outputs": [
    {
     "name": "stdout",
     "output_type": "stream",
     "text": [
      "<class 'pandas.core.frame.DataFrame'>\n",
      "RangeIndex: 1393570 entries, 0 to 1393569\n",
      "Data columns (total 8 columns):\n",
      " #   Column      Non-Null Count    Dtype         \n",
      "---  ------      --------------    -----         \n",
      " 0   listing_id  1393570 non-null  int64         \n",
      " 1   available   1393570 non-null  object        \n",
      " 2   price       934542 non-null   float32       \n",
      " 3   caldate     1393570 non-null  datetime64[ns]\n",
      " 4   year        1393570 non-null  int64         \n",
      " 5   month       1393570 non-null  int64         \n",
      " 6   day         1393570 non-null  int64         \n",
      " 7   month_year  1393570 non-null  period[M]     \n",
      "dtypes: datetime64[ns](1), float32(1), int64(4), object(1), period[M](1)\n",
      "memory usage: 79.7+ MB\n"
     ]
    }
   ],
   "source": [
    "caldf3 = caldf2.copy()\n",
    "caldf3['caldate'] = pd.to_datetime(caldf2['date'])\n",
    "\n",
    "#Create a new columns for the year, month, day, and month_year\n",
    "caldf3['year'] = caldf3['caldate'].dt.year\n",
    "caldf3['month'] = caldf3['caldate'].dt.month\n",
    "caldf3['day'] = caldf3['caldate'].dt.day\n",
    "caldf3['month_year'] = caldf3['caldate'].dt.to_period('M')\n",
    "caldf3.drop('date', axis=1, inplace=True)\n",
    "caldf3.info()"
   ]
  },
  {
   "cell_type": "markdown",
   "id": "88d768c0",
   "metadata": {},
   "source": [
    "### Since the \"available\" column only has t and f, let's change datatype to boolean"
   ]
  },
  {
   "cell_type": "code",
   "execution_count": 79,
   "id": "7d746bd1",
   "metadata": {},
   "outputs": [
    {
     "name": "stdout",
     "output_type": "stream",
     "text": [
      "<class 'pandas.core.frame.DataFrame'>\n",
      "RangeIndex: 1393570 entries, 0 to 1393569\n",
      "Data columns (total 8 columns):\n",
      " #   Column      Non-Null Count    Dtype         \n",
      "---  ------      --------------    -----         \n",
      " 0   listing_id  1393570 non-null  int64         \n",
      " 1   available   1393570 non-null  bool          \n",
      " 2   price       934542 non-null   float32       \n",
      " 3   caldate     1393570 non-null  datetime64[ns]\n",
      " 4   year        1393570 non-null  int64         \n",
      " 5   month       1393570 non-null  int64         \n",
      " 6   day         1393570 non-null  int64         \n",
      " 7   month_year  1393570 non-null  period[M]     \n",
      "dtypes: bool(1), datetime64[ns](1), float32(1), int64(4), period[M](1)\n",
      "memory usage: 70.4 MB\n"
     ]
    }
   ],
   "source": [
    "caldf3['available'] = caldf3['available'].apply(lambda x: True\n",
    "                                                if x == 't' else False)\n",
    "caldf3['available'] = caldf3['available'].astype(bool)\n",
    "caldf3.info()"
   ]
  },
  {
   "cell_type": "markdown",
   "id": "3af5460a",
   "metadata": {},
   "source": [
    "### Let's create a new variable availableday as an integer that will help count number of available days for each listing on a date."
   ]
  },
  {
   "cell_type": "code",
   "execution_count": 80,
   "id": "a2786d55",
   "metadata": {},
   "outputs": [
    {
     "name": "stdout",
     "output_type": "stream",
     "text": [
      "<class 'pandas.core.frame.DataFrame'>\n",
      "RangeIndex: 1393570 entries, 0 to 1393569\n",
      "Data columns (total 9 columns):\n",
      " #   Column        Non-Null Count    Dtype         \n",
      "---  ------        --------------    -----         \n",
      " 0   listing_id    1393570 non-null  int64         \n",
      " 1   available     1393570 non-null  bool          \n",
      " 2   price         934542 non-null   float32       \n",
      " 3   caldate       1393570 non-null  datetime64[ns]\n",
      " 4   year          1393570 non-null  int64         \n",
      " 5   month         1393570 non-null  int64         \n",
      " 6   day           1393570 non-null  int64         \n",
      " 7   month_year    1393570 non-null  period[M]     \n",
      " 8   availableday  1393570 non-null  float32       \n",
      "dtypes: bool(1), datetime64[ns](1), float32(2), int64(4), period[M](1)\n",
      "memory usage: 75.8 MB\n"
     ]
    }
   ],
   "source": [
    "## Since the available column only has t and f, let's convert to boolean\n",
    "caldf3['availableday'] = caldf3['available'].apply(lambda x: 0 if x else 1)\n",
    "#caldf3['availableday'] = caldf3['available'].astype(int, )\n",
    "\n",
    "caldf3['availableday'] = pd.to_numeric(caldf3['availableday'],\n",
    "                                       downcast='float')  ## errors='coerce')\n",
    "\n",
    "caldf3.info()"
   ]
  },
  {
   "cell_type": "markdown",
   "id": "26354105",
   "metadata": {},
   "source": [
    "### Report missing values from the processed calendar data."
   ]
  },
  {
   "cell_type": "code",
   "execution_count": 81,
   "id": "1f496dfb",
   "metadata": {},
   "outputs": [
    {
     "name": "stdout",
     "output_type": "stream",
     "text": [
      "Your selected dataframe has 9 columns.\n",
      "There are 1 columns that have missing values.\n",
      "      DataTypes  Missing Values  % of Total Values\n",
      "price   float32          459028               32.9\n"
     ]
    }
   ],
   "source": [
    "missing_values = create_missing_values_table(caldf3)\n",
    "print(missing_values)"
   ]
  },
  {
   "cell_type": "markdown",
   "id": "824b430b",
   "metadata": {
    "lines_to_next_cell": 2
   },
   "source": [
    "## 4. Modeling \n",
    "\n",
    "### Question\\#3. What were the busy periods for the Seattle AirBnBs?\n",
    "\n",
    "### For Q3 we don't really need a model; we can simplyt group the data by month_year column and count the number of listings available for each combination, to find the busiest period by year and month."
   ]
  },
  {
   "cell_type": "code",
   "execution_count": 82,
   "id": "afcaf590",
   "metadata": {
    "lines_to_next_cell": 2
   },
   "outputs": [
    {
     "name": "stdout",
     "output_type": "stream",
     "text": [
      "<class 'pandas.core.series.Series'>\n",
      "PeriodIndex: 13 entries, 2016-01 to 2017-01\n",
      "Freq: M\n",
      "Series name: availableday\n",
      "Non-Null Count  Dtype  \n",
      "--------------  -----  \n",
      "13 non-null     float32\n",
      "dtypes: float32(1)\n",
      "memory usage: 156.0 bytes\n"
     ]
    }
   ],
   "source": [
    "busy_period = caldf3.groupby('month_year')['availableday'].sum().sort_values(\n",
    "    ascending=False)\n",
    "busy_period.info()"
   ]
  },
  {
   "cell_type": "code",
   "execution_count": 83,
   "id": "931247e1",
   "metadata": {},
   "outputs": [
    {
     "name": "stdout",
     "output_type": "stream",
     "text": [
      "Busy period for Seattle AirBnbs, available days/month\n",
      " month_year\n",
      "2016-01    47665.0\n",
      "2016-07    44136.0\n",
      "2016-08    42011.0\n",
      "2016-04    38503.0\n",
      "2016-05    38387.0\n",
      "2016-02    37401.0\n",
      "2016-06    37296.0\n",
      "2016-09    37294.0\n",
      "2016-10    35920.0\n",
      "2016-03    34420.0\n",
      "2016-11    32760.0\n",
      "2016-12    31297.0\n",
      "2017-01     1938.0\n",
      "Freq: M, Name: availableday, dtype: float32\n"
     ]
    }
   ],
   "source": [
    "print(\"Busy period for Seattle AirBnbs, available days/month\\n\", busy_period)"
   ]
  },
  {
   "cell_type": "markdown",
   "id": "8087d857",
   "metadata": {},
   "source": [
    "### Let's plot Seattle AirBnb Monthly Availability using the summary data above."
   ]
  },
  {
   "cell_type": "code",
   "execution_count": 84,
   "id": "61a0b0da",
   "metadata": {},
   "outputs": [
    {
     "data": {
      "text/plain": [
       "<AxesSubplot: title={'center': \"Q3: Busy Period for Seattle AirBnbs by Monthly Availability, Jan'16 - Jan'17\"}, xlabel='Month-Year', ylabel='Available days'>"
      ]
     },
     "execution_count": 84,
     "metadata": {},
     "output_type": "execute_result"
    },
    {
     "data": {
      "image/png": "[encoded data removed]",
      "text/plain": [
       "<Figure size 640x480 with 1 Axes>"
      ]
     },
     "metadata": {},
     "output_type": "display_data"
    }
   ],
   "source": [
    "busy_period.plot(\n",
    "    kind='bar',\n",
    "    xlabel='Month-Year',\n",
    "    ylabel='Available days',\n",
    "    grid=False,\n",
    "    legend=False,\n",
    "    title=\n",
    "    \"Q3: Busy Period for Seattle AirBnbs by Monthly Availability, Jan'16 - Jan'17\"\n",
    ")"
   ]
  },
  {
   "cell_type": "markdown",
   "id": "0a4f3049",
   "metadata": {},
   "source": [
    "### From the bar chart above, we can see December as busy month in Seattle due to least number of available listings. January'17 is outlier since data incomplete for that month.\n",
    "\n",
    "## ---------------------------------------------------------------------------------------------------------------------------\n",
    "\n",
    "### Question\\#4. What was the per night average price during that period?\n",
    "\n",
    "### For Q4, we don't really need a model; we can simply group the data by month_year column and average price for each combination, to find the average price by year and month."
   ]
  },
  {
   "cell_type": "code",
   "execution_count": 85,
   "id": "eacc0476",
   "metadata": {},
   "outputs": [
    {
     "name": "stdout",
     "output_type": "stream",
     "text": [
      "<class 'pandas.core.series.Series'>\n",
      "PeriodIndex: 13 entries, 2016-01 to 2017-01\n",
      "Freq: M\n",
      "Series name: price\n",
      "Non-Null Count  Dtype  \n",
      "--------------  -----  \n",
      "13 non-null     float32\n",
      "dtypes: float32(1)\n",
      "memory usage: 156.0 bytes\n"
     ]
    }
   ],
   "source": [
    "# Calculate monthly aevrage price for the availabe period\n",
    "mean_price_table = caldf3.groupby('month_year')['price'].mean()\n",
    "\n",
    "# calculate the average price\n",
    "average_price = caldf3['price'].mean()\n",
    "\n",
    "mean_price_table.info()"
   ]
  },
  {
   "cell_type": "code",
   "execution_count": 86,
   "id": "9277306b",
   "metadata": {},
   "outputs": [],
   "source": [
    "# Drop time period with no price data\n",
    "caldf4_mpt = mean_price_table.dropna()"
   ]
  },
  {
   "cell_type": "code",
   "execution_count": 87,
   "id": "d32e003a",
   "metadata": {},
   "outputs": [
    {
     "name": "stdout",
     "output_type": "stream",
     "text": [
      "<class 'pandas.core.series.Series'>\n",
      "PeriodIndex: 13 entries, 2016-01 to 2017-01\n",
      "Freq: M\n",
      "Series name: price\n",
      "Non-Null Count  Dtype  \n",
      "--------------  -----  \n",
      "13 non-null     float32\n",
      "dtypes: float32(1)\n",
      "memory usage: 156.0 bytes\n"
     ]
    }
   ],
   "source": [
    "# Review the monthly aevrage price for the availabe period\n",
    "caldf4_mpt.info()"
   ]
  },
  {
   "cell_type": "markdown",
   "id": "771281e3",
   "metadata": {},
   "source": [
    "### Let's plot a barchart for monthly average price over available period."
   ]
  },
  {
   "cell_type": "code",
   "execution_count": 88,
   "id": "9d3c9d50",
   "metadata": {},
   "outputs": [
    {
     "data": {
      "text/plain": [
       "<AxesSubplot: title={'center': \"Seatle AirBnb Price Trend Jan'16 - Jan'17\"}, xlabel='Month', ylabel='Monthly Average Price'>"
      ]
     },
     "execution_count": 88,
     "metadata": {},
     "output_type": "execute_result"
    },
    {
     "data": {
      "image/png": "[encoded data removed]",
      "text/plain": [
       "<Figure size 640x480 with 1 Axes>"
      ]
     },
     "metadata": {},
     "output_type": "display_data"
    }
   ],
   "source": [
    "# Limit to specific price range so the visualization shows relevant range.\n",
    "\n",
    "list_ylim = (100.00, 170.00)\n",
    "\n",
    "caldf4_mpt.plot(kind='bar',\n",
    "                y='mean_price',\n",
    "                x='month',\n",
    "                xlabel='Month',\n",
    "                ylabel='Monthly Average Price',\n",
    "                ylim=list_ylim,\n",
    "                grid=False,\n",
    "                legend=False,\n",
    "                title=\"Seatle AirBnb Price Trend Jan'16 - Jan'17\")"
   ]
  },
  {
   "cell_type": "markdown",
   "id": "6f44df76",
   "metadata": {},
   "source": [
    "### As we see from the chart above, July has the most expensive average rental prices followed by August. \n",
    "\n",
    "### Plot a line chart for monthly average price over available period to show the month over month change."
   ]
  },
  {
   "cell_type": "code",
   "execution_count": 89,
   "id": "55272cfa",
   "metadata": {
    "scrolled": true
   },
   "outputs": [
    {
     "data": {
      "text/plain": [
       "<matplotlib.lines.Line2D at 0x19ba1b1bbe0>"
      ]
     },
     "execution_count": 89,
     "metadata": {},
     "output_type": "execute_result"
    },
    {
     "data": {
      "image/png": "[encoded data removed]",
      "text/plain": [
       "<Figure size 640x480 with 1 Axes>"
      ]
     },
     "metadata": {},
     "output_type": "display_data"
    }
   ],
   "source": [
    "caldf4_mpt.plot(kind='line',\n",
    "                x='month',\n",
    "                y='mean_price',\n",
    "                xlabel='Month',\n",
    "                ylabel='Monthly Average Price',\n",
    "                grid='True',\n",
    "                legend=False,\n",
    "                rot=1,\n",
    "                title=\"Seatle AirBnb Price Trend Jan'16 - Jan'17\")\n",
    "\n",
    "# add the average price line to the existing plot\n",
    "plt.axhline(y=average_price, color='r', linestyle='-')"
   ]
  },
  {
   "cell_type": "markdown",
   "id": "bf07fb3f",
   "metadata": {},
   "source": [
    "### Above line-chart shows how the monthly average prices compare to the annual average price of $138."
   ]
  },
  {
   "cell_type": "markdown",
   "id": "bc30f047",
   "metadata": {},
   "source": [
    "## 6. Deployment \n",
    "#### Since this is a one time project, stakeholders will be access the results as a blog on Medium.com. Here is link to the blog: https://medium.com/@dk2127/key-insights-into-the-airbnb-prices-7931787df142\n",
    "\n",
    "\n",
    "## Conclusion\n",
    "\n",
    "### There are several factors that can help hosts set daily rental prices, namely more guests included, higher no. of bedrooms, bathrooms, lower extra guest charges,  etc. However there are other factors that negatively impact the price, such as higher extra guest charges, shared room, lower no.of reviews, etc. The popular neighborhoods can be determined based on no. of listings available in those areas, that can new hosts can think about opening new rental. The tourists can also determine or choose to rent in popular neighborhoods.\n"
   ]
  }
 ],
 "metadata": {
  "jupytext": {
   "cell_metadata_filter": "-all",
   "encoding": "# -*- coding: utf-8 -*-",
   "main_language": "python",
   "notebook_metadata_filter": "-all"
  },
  "kernelspec": {
   "display_name": "Python 3 (ipykernel)",
   "language": "python",
   "name": "python3"
  },
  "language_info": {
   "codemirror_mode": {
    "name": "ipython",
    "version": 3
   },
   "file_extension": ".py",
   "mimetype": "text/x-python",
   "name": "python",
   "nbconvert_exporter": "python",
   "pygments_lexer": "ipython3",
   "version": "3.9.12"
  }
 },
 "nbformat": 4,
 "nbformat_minor": 5
}
